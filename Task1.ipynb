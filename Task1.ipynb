{
  "nbformat": 4,
  "nbformat_minor": 0,
  "metadata": {
    "colab": {
      "name": "Task1FromScratch",
      "provenance": [],
      "include_colab_link": true
    },
    "kernelspec": {
      "name": "python3",
      "display_name": "Python 3"
    }
  },
  "cells": [
    {
      "cell_type": "markdown",
      "metadata": {
        "id": "view-in-github",
        "colab_type": "text"
      },
      "source": [
        "<a href=\"https://colab.research.google.com/github/trentfridey/qosf-screening/blob/master/Task1.ipynb\" target=\"_parent\"><img src=\"https://colab.research.google.com/assets/colab-badge.svg\" alt=\"Open In Colab\"/></a>"
      ]
    },
    {
      "cell_type": "markdown",
      "metadata": {
        "id": "3-rv9yuLrf4_",
        "colab_type": "text"
      },
      "source": [
        "# Task 1"
      ]
    },
    {
      "cell_type": "markdown",
      "metadata": {
        "id": "PTTpfmvErf5B",
        "colab_type": "text"
      },
      "source": [
        "## Summary\n",
        "\n",
        "In this notebook, we explore the ability of a QAOA-style circuit in preparing a given four-qubit quantum state. The circuit is made of layers of alternating operators, which contain variational parameters that we optimize to prepare the given state. The circuit's ability to prepare a given quantum state is quantified by a cost function, which is calculated for a number of layers."
      ]
    },
    {
      "cell_type": "markdown",
      "metadata": {
        "id": "18_6YS_0rf5E",
        "colab_type": "text"
      },
      "source": [
        "## Technical description\n",
        "\n",
        "The cost function we are trying to minimize at the end of the circuit is:\n",
        "\n",
        "$$\n",
        "\\varepsilon = \\min_{\\theta}|||\\psi(\\theta)\\rangle - |\\phi\\rangle|| \n",
        "$$\n",
        "\n",
        "where $|\\psi(\\theta)\\rangle$ is the output state of the circuit, and we choose (without loss of generality) \n",
        "\n",
        "$$\n",
        "|\\phi\\rangle = \\frac{1}{\\sqrt{2}}(|1111\\rangle + |0000\\rangle)\n",
        "$$\n",
        "\n",
        "This state is interesting because it represents the entangled [GHZ](https://en.wikipedia.org/wiki/Greenberger%E2%80%93Horne%E2%80%93Zeilinger_state) state.\n",
        "\n",
        "The initial state of the qubits is $|\\psi\\rangle = |0000\\rangle$."
      ]
    },
    {
      "cell_type": "markdown",
      "metadata": {
        "id": "O3QNzJvmrf5H",
        "colab_type": "text"
      },
      "source": [
        "## Circuit Analysis\n",
        "\n",
        "The circuit is composed of layers, which can be broken down into even and odd blocks. The operator for $i^{th}$ block is\n",
        "\n",
        "$$\n",
        "U_{i}^{\\text{odd}}(\\mathbf{\\theta}_i) = \\bigotimes_{n=1}^4 R_x(\\theta_{i,n})\n",
        "$$\n",
        "\n",
        "$$\n",
        "U_{i}^{\\text{even}}(\\mathbf{\\theta}_i) = \\left(\\prod_{\\langle j,k \\rangle}CZ(j,k)\\right)\\bigotimes_{n=1}^4 R_z(\\theta_{i,n})\n",
        "$$\n",
        "\n",
        "Where $\\langle j,k \\rangle$ denotes the ordered pairs of qubits.\n",
        "\n",
        "The operator for the $\\ell^{th}$ layer is:\n",
        "\n",
        "$$\n",
        "U_\\ell = U_{2\\ell}^{\\text{even}} U_\\ell^{\\text{odd}}\n",
        "$$\n",
        "\n",
        "Repeated application of this unitary operator results in applying the circuit multiple times."
      ]
    },
    {
      "cell_type": "markdown",
      "metadata": {
        "id": "yTQZ21Kdrf5I",
        "colab_type": "text"
      },
      "source": [
        "## Implementation\n",
        "\n",
        "In the Python code below, we calculate $\\varepsilon$ by first constructing the unitary operator for the circuit with a specified number of layers (`n_layers`), then multiplying it with $|0000\\rangle$ to get $\\left|\\psi(\\theta)\\right\\rangle$. For the minimization, we use the `autograd` library and employ `adam`."
      ]
    },
    {
      "cell_type": "code",
      "metadata": {
        "id": "2Gyrp9LoZ2tC",
        "colab_type": "code",
        "colab": {}
      },
      "source": [
        "import autograd.numpy as np\n",
        "from autograd import grad\n",
        "from functools import reduce\n",
        "from autograd.misc.optimizers import adam\n",
        "import matplotlib.pyplot as plt\n",
        "import pandas as pd\n",
        "import seaborn as sns"
      ],
      "execution_count": 86,
      "outputs": []
    },
    {
      "cell_type": "code",
      "metadata": {
        "id": "8RMLWT0yV765",
        "colab_type": "code",
        "colab": {}
      },
      "source": [
        "def epsilon(n_layers, debug=False):\n",
        "\n",
        "  print(\"Number of Layers: {}\".format(n_layers))\n",
        "  # Operators\n",
        "\n",
        "  sx = np.array([[0,1],[1,0]])\n",
        "  sy = np.array([[0,-1j],[1j,0]])\n",
        "  sz = np.array([[1,0],[0,-1]])\n",
        "\n",
        "  p0 = np.array([[1,0],[0,0]])\n",
        "  p1 = np.array([[0,0],[0,1]])\n",
        "\n",
        "  # Gates\n",
        "\n",
        "  def Rx(theta):\n",
        "    return np.array([[np.cos(0.5*theta), -1j*np.sin(0.5*theta)],\n",
        "                     [-1j*np.sin(0.5*theta), np.cos(0.5*theta)]])\n",
        "\n",
        "  def Ry(theta):\n",
        "    return np.array([[np.cos(0.5*theta), -1*np.sin(0.5*theta)],\n",
        "                     [np.sin(0.5*theta), np.cos(0.5*theta)]])\n",
        "\n",
        "  def Rz(theta):\n",
        "    return np.array([[np.cos(-0.5*theta) + 1j*np.sin(-0.5*theta), 0], \n",
        "                     [0, np.cos(0.5*theta) + 1j*np.sin(0.5*theta)]])\n",
        "\n",
        "  def CZ(i,j):\n",
        "    ops0 = [np.eye(2) for i in range(4)]\n",
        "    ops1 = [np.eye(2) for i in range(4)]\n",
        "    ops0[i] = p0\n",
        "    ops1[i] = p1\n",
        "    ops1[j] = sz\n",
        "    cz0 = reduce(lambda res, op: np.kron(res, op), ops0)\n",
        "    cz1 = reduce(lambda res, op: np.kron(res, op), ops1)\n",
        "    return cz0 + cz1\n",
        "\n",
        "  # Blocks\n",
        "\n",
        "  def odd(thetas):\n",
        "    rot = Rx(thetas[0])\n",
        "    rots = [Rx(theta) for theta in thetas[1:]]\n",
        "    for r in rots:\n",
        "      rot = np.kron(rot,r)\n",
        "    return rot\n",
        "\n",
        "  def even(thetas):\n",
        "    rot = Rx(thetas[0])\n",
        "    rots = [Rz(theta) for theta in thetas[1:]]\n",
        "    for r in rots:\n",
        "      rot = np.kron(rot, r)\n",
        "    CZs = np.eye(16)\n",
        "    for i in range(3):\n",
        "      for j in range(i+1, 4):\n",
        "        CZs = CZ(i,j) @ CZs\n",
        "    return CZs @ rot\n",
        "\n",
        "  # Layer\n",
        "\n",
        "  def layer(thetas):\n",
        "    return even(thetas[4:8]) @ odd(thetas[0:4]) \n",
        "\n",
        "  # Circuit\n",
        "\n",
        "  def circuit(thetas):\n",
        "    circuit = np.eye(16)\n",
        "    for l in range(n_layers):\n",
        "      circuit = layer(thetas[8*l:8*(l+1)]) @ circuit\n",
        "    return circuit\n",
        "\n",
        "  # Objective\n",
        "\n",
        "  start_state = np.array([1] + [0 for i in range(1,16)])\n",
        "  target = 0.5*np.sqrt(2) *(np.array([1] + [0 for i in range(1,15)] + [1]))\n",
        "\n",
        "  def objective(thetas,iter):\n",
        "    circ = circuit(thetas)\n",
        "    return np.sum(np.abs(np.dot(circ, start_state)/np.sum(np.abs(np.dot(circ, start_state))) - target))\n",
        "\n",
        "  # Optimization\n",
        "\n",
        "  grad_obj = grad(objective)\n",
        "\n",
        "  init_thetas = np.random.normal(0, np.pi, 8*n_layers)\n",
        "  step_size = 0.1\n",
        "  num_iters = 400 + 20*n_layers\n",
        "\n",
        "  def handle_step(params, iter, grad):\n",
        "    if iter % 20 == 0 and debug:\n",
        "      print(\"Cost after {} steps is {}\".format(iter, objective(params, iter)))\n",
        "\n",
        "  optimized_thetas = adam(grad_obj, init_thetas, step_size=step_size, num_iters=num_iters, callback=handle_step)\n",
        "\n",
        "  epsilon = objective(optimized_thetas,0)\n",
        "  if debug:\n",
        "    opt_circuit = circuit(optimized_thetas)\n",
        "    final_state = np.dot(opt_circuit, start_state) \n",
        "    return optimized_thetas, opt_circuit, final_state, epsilon\n",
        "  return epsilon"
      ],
      "execution_count": 127,
      "outputs": []
    },
    {
      "cell_type": "code",
      "metadata": {
        "id": "cuv0bRlM5bv5",
        "colab_type": "code",
        "colab": {
          "base_uri": "https://localhost:8080/",
          "height": 384
        },
        "outputId": "3cadcbb7-bcfd-447f-f6db-3779e0cf82ba"
      },
      "source": [
        "# Generate data for plot\n",
        "n_layers = 5\n",
        "\n",
        "def gen_data_points():\n",
        "  return [epsilon(n) for n in range(1,n_layers)]\n",
        "\n",
        "# We use 5 runs to average out initialization effects\n",
        "runs = 5\n",
        "e_data = [gen_data_points() for i in range(runs)]"
      ],
      "execution_count": 131,
      "outputs": [
        {
          "output_type": "stream",
          "text": [
            "Number of Layers: 1\n",
            "Number of Layers: 2\n",
            "Number of Layers: 3\n",
            "Number of Layers: 4\n",
            "Number of Layers: 1\n",
            "Number of Layers: 2\n",
            "Number of Layers: 3\n",
            "Number of Layers: 4\n",
            "Number of Layers: 1\n",
            "Number of Layers: 2\n",
            "Number of Layers: 3\n",
            "Number of Layers: 4\n",
            "Number of Layers: 1\n",
            "Number of Layers: 2\n",
            "Number of Layers: 3\n",
            "Number of Layers: 4\n",
            "Number of Layers: 1\n",
            "Number of Layers: 2\n",
            "Number of Layers: 3\n",
            "Number of Layers: 4\n"
          ],
          "name": "stdout"
        }
      ]
    },
    {
      "cell_type": "code",
      "metadata": {
        "id": "vwBCoClw7Hsu",
        "colab_type": "code",
        "colab": {
          "base_uri": "https://localhost:8080/",
          "height": 491
        },
        "outputId": "f8cb0700-89cd-42b4-85f0-eec716772f13"
      },
      "source": [
        "df = pd.DataFrame(e_data, columns=[i for i in range(1,n_layers)])\n",
        "sns.set_style(style=\"whitegrid\")\n",
        "sns.set_palette(\"deep\")\n",
        "ax = sns.boxplot(data=df, color=\"#99bbff\")\n",
        "ax.set_title(r'$\\varepsilon(L)$', fontsize=20)\n",
        "ax.set_xlabel(r'Number of layers $L$', fontsize=16)\n",
        "ax.set_ylabel(r'$\\varepsilon$', fontsize=20);\n",
        "sns.despine(left=True)"
      ],
      "execution_count": 132,
      "outputs": [
        {
          "output_type": "display_data",
          "data": {
            "image/png": "[encoded data removed]",
            "text/plain": [
              "<Figure size 640x480 with 1 Axes>"
            ]
          },
          "metadata": {
            "tags": []
          }
        }
      ]
    },
    {
      "cell_type": "markdown",
      "metadata": {
        "id": "Pg9E06vxSRrT",
        "colab_type": "text"
      },
      "source": [
        "## Conclusion\n",
        "\n",
        "It seems that applying more layers to the initial state tends to decrease the difference between the initial state and the target state. This would match with the intuition that, since each layer introduces more parameters, the optimizer has more ways to approach the target state."
      ]
    },
    {
      "cell_type": "code",
      "metadata": {
        "id": "-4QaP_wuDKt4",
        "colab_type": "code",
        "colab": {}
      },
      "source": [
        ""
      ],
      "execution_count": null,
      "outputs": []
    }
  ]
}