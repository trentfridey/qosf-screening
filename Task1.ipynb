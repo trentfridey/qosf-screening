{
  "cells": [
    {
      "source": [
        "# Task 1"
      ],
      "cell_type": "markdown",
      "metadata": {}
    },
    {
      "source": [
        "## Summary\n",
        "\n",
        "In this notebook, we explore the ability of a QAOA-style circuit in preparing a given four-qubit quantum state. The circuit is made of layers of alternating operators, which contain variational parameters that we optimize to prepare the given state. The circuit's ability to prepare a given quantum state is quantified by a cost function, which is calculated for a number of layers."
      ],
      "cell_type": "markdown",
      "metadata": {}
    },
    {
      "source": [
        "## Technical description\n",
        "\n",
        "The cost function we are trying to minimize at the end of the circuit is:\n",
        "\n",
        "$$\n",
        "\\varepsilon = \\min_{\\theta}|||\\psi(\\theta)\\rangle - |\\phi\\rangle|| \n",
        "$$\n",
        "\n",
        "where $|\\psi(\\theta)\\rangle$ is the output state of the circuit, and we choose (without loss of generality) \n",
        "\n",
        "$$\n",
        "|\\phi\\rangle = |1111\\rangle\n",
        "$$"
      ],
      "cell_type": "markdown",
      "metadata": {}
    },
    {
      "source": [
        "## Analysis\n",
        "\n",
        "The initial state of the qubits is $|\\psi\\rangle = |0000\\rangle$. A layer in the circuit can be described as a unitary operator, $U(\\{\\theta_i\\})$, composed of the product of an odd and even block.\n",
        "\n",
        "The operator for the odd block is \n",
        "\n",
        "$$\n",
        "U_{odd} = \\bigotimes_{i=1}^4 R_x(\\theta_i)\n",
        "$$\n",
        "\n",
        "The operator for the even block is\n",
        "\n",
        "$$\n",
        "U_{even} = \\left(\\prod_{\\langle i,j \\rangle}CZ(i,j)\\right)\\bigotimes_{k=1}^4 R_z(\\theta_k)\n",
        "$$\n",
        "\n",
        "Where $\\langle i,j \\rangle$ denotes the ordered pairs of qubits.\n",
        "\n",
        "The operator for the layer is:\n",
        "\n",
        "$$\n",
        "U_{layer}(\\{\\theta_i\\}) = U_{even}U_{odd}\n",
        "$$\n",
        "\n",
        "The final state of the qubits is $|\\psi(\\theta_i)\\rangle = U(\\{\\theta_i\\})|\\psi\\rangle$. The operator corresponding to $n$ layers is \n",
        "\n",
        "$$ \n",
        "U^{(n)}(\\{\\theta\\}) = \\prod_k^n U(\\{\\theta_i\\})\n",
        "$$ \n",
        "\n",
        "where $\\{\\theta\\} = \\bigcup_n \\{\\theta_i\\}$."
      ],
      "cell_type": "markdown",
      "metadata": {}
    },
    {
      "source": [
        "## Implementation\n",
        "\n",
        "In the Python code below, we calculate $\\varepsilon$ by first constructing $U^{(n)}(\\{\\theta\\})$, then multiplying it with $|0000\\rangle$ to get $|\\psi(\\theta)\\rangle$. For the minimization, we use the `autograd` library and employ SGD"
      ],
      "cell_type": "markdown",
      "metadata": {}
    },
    {
      "cell_type": "markdown",
      "metadata": {
        "id": "view-in-github",
        "colab_type": "text"
      },
      "source": [
        "<a href=\"https://colab.research.google.com/github/trentfridey/qosf-screening/blob/master/Task1FromScratch.ipynb\" target=\"_parent\"><img src=\"https://colab.research.google.com/assets/colab-badge.svg\" alt=\"Open In Colab\"/></a>"
      ]
    },
    {
      "cell_type": "code",
      "metadata": {
        "id": "2Gyrp9LoZ2tC",
        "colab_type": "code",
        "colab": {}
      },
      "source": [
        "import autograd.numpy as np\n",
        "from autograd import grad\n",
        "from functools import reduce\n",
        "from autograd.misc.optimizers import sgd\n",
        "import matplotlib.pyplot as plt"
      ],
      "execution_count": 74,
      "outputs": []
    },
    {
      "cell_type": "code",
      "metadata": {
        "id": "8RMLWT0yV765",
        "colab_type": "code",
        "colab": {}
      },
      "source": [
        "def epsilon(n_layers, debug=False):\n",
        "\n",
        "  print(\"Number of Layers: {}\".format(n_layers))\n",
        "  # Operators\n",
        "\n",
        "  sx = np.array([[0,1],[1,0]])\n",
        "  sy = np.array([[0,-1j],[1j,0]])\n",
        "  sz = np.array([[1,0],[0,-1]])\n",
        "\n",
        "  p0 = np.array([[1,0],[0,0]])\n",
        "  p1 = np.array([[0,0],[0,1]])\n",
        "\n",
        "  # Gates\n",
        "\n",
        "  def Rx(theta):\n",
        "    return np.array([[np.cos(0.5*theta), -1j*np.sin(0.5*theta)],\n",
        "                     [-1j*np.sin(0.5*theta), np.cos(0.5*theta)]])\n",
        "\n",
        "  def Ry(theta):\n",
        "    return np.array([[np.cos(0.5*theta), -1*np.sin(0.5*theta)],\n",
        "                     [np.sin(0.5*theta), np.cos(0.5*theta)]])\n",
        "\n",
        "  def Rz(theta):\n",
        "    return np.array([[np.exp(-0.5j*theta), 0], [0, np.exp(0.5j*theta)]])\n",
        "\n",
        "  def CZ(i,j):\n",
        "    ops0 = [np.eye(2) for i in range(4)]\n",
        "    ops1 = [np.eye(2) for i in range(4)]\n",
        "    ops0[i] = p0\n",
        "    ops1[i] = p1\n",
        "    ops1[j] = sz\n",
        "    cz0 = reduce(lambda res, op: np.kron(res, op), ops0)\n",
        "    cz1 = reduce(lambda res, op: np.kron(res, op), ops1)\n",
        "    return cz0 + cz1\n",
        "\n",
        "  # Blocks\n",
        "\n",
        "  def odd(thetas):\n",
        "    rot = Rx(thetas[0])\n",
        "    rots = [Rx(theta) for theta in thetas[1:]]\n",
        "    for r in rots:\n",
        "      rot = np.kron(rot,r)\n",
        "    return rot\n",
        "\n",
        "  def even(thetas):\n",
        "    rot = Rx(thetas[0])\n",
        "    rots = [Rz(theta) for theta in thetas[1:]]\n",
        "    for r in rots:\n",
        "      rot = np.kron(rot, r)\n",
        "    CZs = np.eye(16)\n",
        "    for i in range(3):\n",
        "      for j in range(i+1, 4):\n",
        "        CZs = CZ(i,j) @ CZs\n",
        "    return CZs @ rot\n",
        "\n",
        "  # Layer\n",
        "\n",
        "  def layer(thetas):\n",
        "    return even(thetas[4:8]) @ odd(thetas[0:4]) \n",
        "\n",
        "  # Circuit\n",
        "\n",
        "  def circuit(thetas):\n",
        "    circuit = np.eye(16)\n",
        "    for l in range(n_layers):\n",
        "      circuit = layer(thetas[8*l:8*(l+1)]) @ circuit\n",
        "    return circuit\n",
        "\n",
        "  # Objective\n",
        "\n",
        "  start_state = np.array([1] + [0 for i in range(1,16)])\n",
        "  target = np.array([0 for i in range(0,15)] + [1])\n",
        "\n",
        "  def objective(thetas,iter):\n",
        "    circ = circuit(thetas)\n",
        "    return np.sum(np.abs(np.dot(circ, start_state) - target))\n",
        "\n",
        "  # Optimization\n",
        "\n",
        "  grad_obj = grad(objective)\n",
        "\n",
        "  init_thetas = np.random.normal(0, np.pi, 8*n_layers)\n",
        "  step_size = 0.1\n",
        "  num_iters = 400 + 20*n_layers\n",
        "\n",
        "  def handle_step(params, iter, grad):\n",
        "    if iter % 20 == 0 and debug:\n",
        "      print(\"Cost after {} steps is {}\".format(iter, objective(params, iter)))\n",
        "\n",
        "  optimized_thetas = sgd(grad_obj, init_thetas, step_size=step_size, num_iters=num_iters, callback=handle_step)\n",
        "\n",
        "  epsilon = objective(optimized_thetas,0)\n",
        "  if debug:\n",
        "    opt_circuit = circuit(optimized_thetas)\n",
        "    final_state = np.dot(opt_circuit, start_state) \n",
        "    return optimized_thetas, opt_circuit, final_state, epsilon\n",
        "  return epsilon"
      ],
      "execution_count": 123,
      "outputs": []
    },
    {
      "cell_type": "code",
      "metadata": {
        "id": "cuv0bRlM5bv5",
        "colab_type": "code",
        "colab": {
          "base_uri": "https://localhost:8080/",
          "height": 90
        },
        "outputId": "790d926f-b58a-48b7-e07b-ac7d3d5a8ec4"
      },
      "source": [
        "# Generate data for plot\n",
        "\n",
        "def gen_data_points():\n",
        "  return [epsilon(n_layers) for n_layers in range(1,5)]\n",
        "\n",
        "e_data = gen_data_points()"
      ],
      "execution_count": 128,
      "outputs": [
        {
          "output_type": "stream",
          "text": [
            "Number of Layers: 1\n",
            "Number of Layers: 2\n",
            "Number of Layers: 3\n",
            "Number of Layers: 4\n"
          ],
          "name": "stdout"
        }
      ]
    },
    {
      "cell_type": "code",
      "metadata": {
        "id": "qIzWMGV36glK",
        "colab_type": "code",
        "colab": {
          "base_uri": "https://localhost:8080/",
          "height": 482
        },
        "outputId": "446962a2-57ed-4366-83ef-7a31993616ed"
      },
      "source": [
        "plt.style.use(\"classic\")\n",
        "fig, ax = plt.subplots()\n",
        "ax.grid()\n",
        "ax.plot(np.array([i+1 for i in range(len(e_data))]), e_data, marker=\"o\", linestyle=\"\")\n",
        "ax.set_title(r'$\\varepsilon = \\min_{\\theta}|\\left|\\psi(\\theta)\\right\\rangle - \\left|\\phi\\right\\rangle|$')\n",
        "ax.set_xlabel(r'Number of layers $L$')\n",
        "ax.set_ylabel(r'Distance from target $\\left|\\phi\\right\\rangle$');"
      ],
      "execution_count": 129,
      "outputs": [
        {
          "output_type": "display_data",
          "data": {
            "image/png": "[encoded data removed]",
            "text/plain": [
              "<Figure size 640x480 with 1 Axes>"
            ]
          },
          "metadata": {
            "tags": []
          }
        }
      ]
    },
    {
      "cell_type": "code",
      "metadata": {
        "id": "ZIgIEw2lJShG",
        "colab_type": "code",
        "colab": {}
      },
      "source": [
        ""
      ],
      "execution_count": null,
      "outputs": []
    }
  ],
  "metadata": {
    "colab": {
      "name": "Task1FromScratch",
      "provenance": [],
      "authorship_tag": "ABX9TyPzxZ8oGb2ayFsA6FkekpB0",
      "include_colab_link": true
    },
    "kernelspec": {
      "name": "python3",
      "display_name": "Python 3"
    }
  },
  "nbformat": 4,
  "nbformat_minor": 0
}