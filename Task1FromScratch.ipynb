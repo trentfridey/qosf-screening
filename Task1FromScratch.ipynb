{
  "nbformat": 4,
  "nbformat_minor": 0,
  "metadata": {
    "colab": {
      "name": "Task1FromScratch",
      "provenance": [],
      "authorship_tag": "ABX9TyOWEynEJmr0u9Ojxm2w/bcY",
      "include_colab_link": true
    },
    "kernelspec": {
      "name": "python3",
      "display_name": "Python 3"
    }
  },
  "cells": [
    {
      "cell_type": "markdown",
      "metadata": {
        "id": "view-in-github",
        "colab_type": "text"
      },
      "source": [
        "<a href=\"https://colab.research.google.com/github/trentfridey/qosf-screening/blob/master/Task1FromScratch.ipynb\" target=\"_parent\"><img src=\"https://colab.research.google.com/assets/colab-badge.svg\" alt=\"Open In Colab\"/></a>"
      ]
    },
    {
      "cell_type": "code",
      "metadata": {
        "id": "2Gyrp9LoZ2tC",
        "colab_type": "code",
        "colab": {}
      },
      "source": [
        "import numpy as np\n",
        "from scipy.optimize import minimize"
      ],
      "execution_count": 3,
      "outputs": []
    },
    {
      "cell_type": "code",
      "metadata": {
        "id": "8RMLWT0yV765",
        "colab_type": "code",
        "colab": {}
      },
      "source": [
        "sx = np.array([[0,1],[1,0]])\n",
        "sy = np.array([[0,-1j],[1j,0]])\n",
        "sz = np.array([[1,0],[0,-1]])\n",
        "\n",
        "def Rx(theta):\n",
        "  mat = -1j*theta*0.5*sx\n",
        "  return np.exp(mat)\n",
        "\n",
        "def Ry(theta):\n",
        "  mat = -1j*theta*0.5*sy\n",
        "  return np.exp(mat)\n",
        "\n",
        "def Rz(theta):\n",
        "  return np.array([[np.exp(-0.5j*theta), 0], [0, np.exp(0.5j*theta)]])\n",
        "\n"
      ],
      "execution_count": 42,
      "outputs": []
    },
    {
      "cell_type": "code",
      "metadata": {
        "id": "1iS47VETb1dR",
        "colab_type": "code",
        "colab": {}
      },
      "source": [
        "from scipy.linalg import kron\n",
        "from functools import reduce"
      ],
      "execution_count": 36,
      "outputs": []
    },
    {
      "cell_type": "code",
      "metadata": {
        "id": "tjBt_-J7iH_G",
        "colab_type": "code",
        "colab": {}
      },
      "source": [
        "p0 = np.array([[1,0],[0,0]])\n",
        "p1 = np.array([[0,0],[0,1]])\n",
        "\n",
        "def CZ(i,j):\n",
        "  ops0 = [np.eye(2) for i in range(4)]\n",
        "  ops1 = [np.eye(2) for i in range(4)]\n",
        "  ops0[i] = p0\n",
        "  ops1[i] = p1\n",
        "  ops1[j] = sz\n",
        "  cz0 = reduce(lambda res, op: kron(res, op), ops0)\n",
        "  cz1 = reduce(lambda res, op: kron(res, op), ops1)\n",
        "  return cz0 + cz1"
      ],
      "execution_count": 43,
      "outputs": []
    },
    {
      "cell_type": "code",
      "metadata": {
        "id": "k1gDJDkab8_h",
        "colab_type": "code",
        "colab": {}
      },
      "source": [
        "def odd(thetas):\n",
        "  rots = [Rx(theta) for theta in thetas[1:]]\n",
        "  rot = Rx(thetas[0])\n",
        "  for r in rots:\n",
        "    rot = kron(rot,r)\n",
        "  return rot"
      ],
      "execution_count": 20,
      "outputs": []
    },
    {
      "cell_type": "code",
      "metadata": {
        "id": "_ZwzRLvbcwV6",
        "colab_type": "code",
        "colab": {}
      },
      "source": [
        "def even(thetas):\n",
        "  rots = [Rz(theta) for theta in thetas[1:]]\n",
        "  rot = Rx(thetas[0])\n",
        "  for r in rots:\n",
        "    rot = kron(rot, r)\n",
        "  CZs = np.eye(16)\n",
        "  for i in range(3):\n",
        "    for j in range(i+1, 4):\n",
        "      CZs = CZs @ CZ(i,j)\n",
        "  return rot @ CZs"
      ],
      "execution_count": 47,
      "outputs": []
    },
    {
      "cell_type": "code",
      "metadata": {
        "id": "6NToxXu7o4Ou",
        "colab_type": "code",
        "colab": {}
      },
      "source": [
        "def layer(thetas):\n",
        "  return odd(thetas[0:8]) @ even(thetas[9:16])"
      ],
      "execution_count": 50,
      "outputs": []
    },
    {
      "cell_type": "code",
      "metadata": {
        "id": "dB9QmskSpY1t",
        "colab_type": "code",
        "colab": {}
      },
      "source": [
        ""
      ],
      "execution_count": null,
      "outputs": []
    }
  ]
}