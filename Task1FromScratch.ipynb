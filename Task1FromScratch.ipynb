{
  "nbformat": 4,
  "nbformat_minor": 0,
  "metadata": {
    "colab": {
      "name": "Task1FromScratch",
      "provenance": [],
      "authorship_tag": "ABX9TyMXDylLYgijuaJ1G5yVDU3S",
      "include_colab_link": true
    },
    "kernelspec": {
      "name": "python3",
      "display_name": "Python 3"
    }
  },
  "cells": [
    {
      "cell_type": "markdown",
      "metadata": {
        "id": "view-in-github",
        "colab_type": "text"
      },
      "source": [
        "<a href=\"https://colab.research.google.com/github/trentfridey/qosf-screening/blob/master/Task1FromScratch.ipynb\" target=\"_parent\"><img src=\"https://colab.research.google.com/assets/colab-badge.svg\" alt=\"Open In Colab\"/></a>"
      ]
    },
    {
      "cell_type": "code",
      "metadata": {
        "id": "2Gyrp9LoZ2tC",
        "colab_type": "code",
        "colab": {}
      },
      "source": [
        "import autograd.numpy as np\n",
        "from autograd import grad\n",
        "from functools import reduce\n",
        "from autograd.misc.optimizers import adam\n",
        "import matplotlib.pyplot as plt"
      ],
      "execution_count": 2,
      "outputs": []
    },
    {
      "cell_type": "code",
      "metadata": {
        "id": "8RMLWT0yV765",
        "colab_type": "code",
        "colab": {
          "base_uri": "https://localhost:8080/",
          "height": 384
        },
        "outputId": "2d7d64c4-e516-4ce6-cb30-5d757d76e39d"
      },
      "source": [
        "# Operators\n",
        "\n",
        "sx = np.array([[0,1],[1,0]])\n",
        "sy = np.array([[0,-1j],[1j,0]])\n",
        "sz = np.array([[1,0],[0,-1]])\n",
        "\n",
        "p0 = np.array([[1,0],[0,0]])\n",
        "p1 = np.array([[0,0],[0,1]])\n",
        "\n",
        "# Gates\n",
        "\n",
        "def Rx(theta):\n",
        "  mat = -1j*theta*0.5*sx\n",
        "  return np.exp(mat)\n",
        "\n",
        "def Ry(theta):\n",
        "  mat = -1j*theta*0.5*sy\n",
        "  return np.exp(mat)\n",
        "\n",
        "def Rz(theta):\n",
        "  return np.array([[np.exp(-0.5j*theta), 0], [0, np.exp(0.5j*theta)]])\n",
        "\n",
        "def CZ(i,j):\n",
        "  ops0 = [np.eye(2) for i in range(4)]\n",
        "  ops1 = [np.eye(2) for i in range(4)]\n",
        "  ops0[i] = p0\n",
        "  ops1[i] = p1\n",
        "  ops1[j] = sz\n",
        "  cz0 = reduce(lambda res, op: np.kron(res, op), ops0)\n",
        "  cz1 = reduce(lambda res, op: np.kron(res, op), ops1)\n",
        "  return cz0 + cz1\n",
        "\n",
        "# Blocks\n",
        "\n",
        "def odd(thetas):\n",
        "  rots = [Rx(theta) for theta in thetas[1:]]\n",
        "  rot = Rx(thetas[0])\n",
        "  for r in rots:\n",
        "    rot = np.kron(rot,r)\n",
        "  return rot\n",
        "\n",
        "def even(thetas):\n",
        "  rots = [Rz(theta) for theta in thetas[1:]]\n",
        "  rot = Rx(thetas[0])\n",
        "  for r in rots:\n",
        "    rot = np.kron(rot, r)\n",
        "  CZs = np.eye(16)\n",
        "  for i in range(3):\n",
        "    for j in range(i+1, 4):\n",
        "      CZs = CZs @ CZ(i,j)\n",
        "  return rot @ CZs\n",
        "\n",
        "# Layer\n",
        "\n",
        "def layer(thetas):\n",
        "  return odd(thetas[0:4]) @ even(thetas[4:8])\n",
        "\n",
        "n_layers = 1\n",
        "\n",
        "# Circuit\n",
        "\n",
        "def circuit(thetas):\n",
        "  circuit = np.eye(16)\n",
        "  for l in range(n_layers):\n",
        "    circuit = circuit @ layer(thetas[8*l:8*(l+1)])\n",
        "  return circuit\n",
        "\n",
        "# Objective\n",
        "\n",
        "target = np.array([0 for i in range(0,15)] + [1])\n",
        "\n",
        "def objective(thetas,iter):\n",
        "  start_state = np.array([1] + [0 for i in range(1,16)])\n",
        "  circ = circuit(thetas)\n",
        "  return np.sum(np.abs(np.dot(circ, start_state) - target))\n",
        "\n",
        "# Optimization\n",
        "\n",
        "grad_obj = grad(objective)\n",
        "\n",
        "init_thetas = np.random.normal(0, np.pi, 16)\n",
        "step_size = 0.1\n",
        "num_iters = 200\n",
        "\n",
        "def handle_step(params, iter, grad):\n",
        "  if iter % 10 == 0:\n",
        "    print(\"Cost after {} steps is {}\".format(iter, objective(params, iter)))\n",
        "\n",
        "optimized_thetas = adam(grad_obj, init_thetas, step_size=step_size, num_iters=num_iters, callback=handle_step)\n",
        "\n",
        "epsilon = objective(optimized_thetas,0)"
      ],
      "execution_count": 22,
      "outputs": [
        {
          "output_type": "stream",
          "text": [
            "Cost after 0 steps is 14.152414044109356\n",
            "Cost after 10 steps is 11.31426865659585\n",
            "Cost after 20 steps is 6.874159291369494\n",
            "Cost after 30 steps is 1.075265191124774\n",
            "Cost after 40 steps is 2.619912167267409\n",
            "Cost after 50 steps is 1.9145664570655883\n",
            "Cost after 60 steps is 1.4909038772663332\n",
            "Cost after 70 steps is 1.2039055541992592\n",
            "Cost after 80 steps is 1.0840711056458465\n",
            "Cost after 90 steps is 1.1639905922984592\n",
            "Cost after 100 steps is 1.0417035183650534\n",
            "Cost after 110 steps is 1.0304719437084184\n",
            "Cost after 120 steps is 1.1425541669894048\n",
            "Cost after 130 steps is 1.256811605739923\n",
            "Cost after 140 steps is 1.2758932896988693\n",
            "Cost after 150 steps is 1.167154690130583\n",
            "Cost after 160 steps is 1.0514719318987054\n",
            "Cost after 170 steps is 1.1672956149469174\n",
            "Cost after 180 steps is 1.08882257385395\n",
            "Cost after 190 steps is 1.1886710115710726\n"
          ],
          "name": "stdout"
        }
      ]
    },
    {
      "cell_type": "code",
      "metadata": {
        "id": "DoZqEQ0h3H6f",
        "colab_type": "code",
        "colab": {}
      },
      "source": [
        ""
      ],
      "execution_count": null,
      "outputs": []
    }
  ]
}