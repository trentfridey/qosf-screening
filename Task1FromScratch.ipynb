{
  "nbformat": 4,
  "nbformat_minor": 0,
  "metadata": {
    "colab": {
      "name": "Task1FromScratch",
      "provenance": [],
      "authorship_tag": "ABX9TyNeYkYtViXJ2as1Ek5ljbCK",
      "include_colab_link": true
    },
    "kernelspec": {
      "name": "python3",
      "display_name": "Python 3"
    }
  },
  "cells": [
    {
      "cell_type": "markdown",
      "metadata": {
        "id": "view-in-github",
        "colab_type": "text"
      },
      "source": [
        "<a href=\"https://colab.research.google.com/github/trentfridey/qosf-screening/blob/master/Task1FromScratch.ipynb\" target=\"_parent\"><img src=\"https://colab.research.google.com/assets/colab-badge.svg\" alt=\"Open In Colab\"/></a>"
      ]
    },
    {
      "cell_type": "code",
      "metadata": {
        "id": "2Gyrp9LoZ2tC",
        "colab_type": "code",
        "colab": {}
      },
      "source": [
        "import autograd.numpy as np\n",
        "from autograd import grad\n",
        "from scipy.linalg import kron\n",
        "from functools import reduce\n",
        "from autograd.misc.optimizers import adam\n",
        "import matplotlib.pyplot as plt"
      ],
      "execution_count": 37,
      "outputs": []
    },
    {
      "cell_type": "code",
      "metadata": {
        "id": "8RMLWT0yV765",
        "colab_type": "code",
        "colab": {}
      },
      "source": [
        "# Operators\n",
        "\n",
        "sx = np.array([[0,1],[1,0]])\n",
        "sy = np.array([[0,-1j],[1j,0]])\n",
        "sz = np.array([[1,0],[0,-1]])\n",
        "\n",
        "p0 = np.array([[1,0],[0,0]])\n",
        "p1 = np.array([[0,0],[0,1]])\n",
        "\n",
        "# Gates\n",
        "\n",
        "def Rx(theta):\n",
        "  mat = -1j*theta*0.5*sx\n",
        "  return np.exp(mat)\n",
        "\n",
        "def Ry(theta):\n",
        "  mat = -1j*theta*0.5*sy\n",
        "  return np.exp(mat)\n",
        "\n",
        "def Rz(theta):\n",
        "  return np.array([[np.exp(-0.5j*theta), 0], [0, np.exp(0.5j*theta)]])\n",
        "\n",
        "def CZ(i,j):\n",
        "  ops0 = [np.eye(2) for i in range(4)]\n",
        "  ops1 = [np.eye(2) for i in range(4)]\n",
        "  ops0[i] = p0\n",
        "  ops1[i] = p1\n",
        "  ops1[j] = sz\n",
        "  cz0 = reduce(lambda res, op: kron(res, op), ops0)\n",
        "  cz1 = reduce(lambda res, op: kron(res, op), ops1)\n",
        "  return cz0 + cz1\n",
        "\n",
        "# Blocks\n",
        "\n",
        "def odd(thetas):\n",
        "  rots = [Rx(theta) for theta in thetas[1:]]\n",
        "  rot = Rx(thetas[0])\n",
        "  for r in rots:\n",
        "    rot = kron(rot,r)\n",
        "  return rot\n",
        "\n",
        "def even(thetas):\n",
        "  rots = [Rz(theta) for theta in thetas[1:]]\n",
        "  rot = Rx(thetas[0])\n",
        "  for r in rots:\n",
        "    rot = kron(rot, r)\n",
        "  CZs = np.eye(16)\n",
        "  for i in range(3):\n",
        "    for j in range(i+1, 4):\n",
        "      CZs = CZs @ CZ(i,j)\n",
        "  return rot @ CZs\n",
        "\n",
        "# Layer\n",
        "\n",
        "def layer(thetas):\n",
        "  return odd(thetas[0:4]) @ even(thetas[4:8])\n",
        "\n",
        "n_layers = 1\n",
        "\n",
        "# Circuit\n",
        "\n",
        "def circuit(thetas):\n",
        "  circuit = np.eye(16)\n",
        "  for l in range(n_layers):\n",
        "    circuit = circuit @ layer(thetas[8*l:8*(l+1)])\n",
        "  return circuit\n",
        "\n",
        "# Objective\n",
        "\n",
        "target = np.array([0 for i in range(0,15)] + [1])\n",
        "\n",
        "def objective(thetas):\n",
        "  start_state = [1] + [0 for i in range(1,16)]\n",
        "  circ = circuit(thetas)\n",
        "  return 2 - 2*np.real(np.vdot(start_state, np.dot(circuit, target)))"
      ],
      "execution_count": 38,
      "outputs": []
    },
    {
      "cell_type": "code",
      "metadata": {
        "id": "y0-WqwvKCGSO",
        "colab_type": "code",
        "colab": {}
      },
      "source": [
        ""
      ],
      "execution_count": null,
      "outputs": []
    }
  ]
}