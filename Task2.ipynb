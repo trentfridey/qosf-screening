{
  "nbformat": 4,
  "nbformat_minor": 0,
  "metadata": {
    "colab": {
      "name": "Task2",
      "provenance": [],
      "authorship_tag": "ABX9TyOrYKWQVMSexkYdE1SKHD3z",
      "include_colab_link": true
    },
    "kernelspec": {
      "name": "python3",
      "display_name": "Python 3"
    }
  },
  "cells": [
    {
      "cell_type": "markdown",
      "metadata": {
        "id": "view-in-github",
        "colab_type": "text"
      },
      "source": [
        "<a href=\"https://colab.research.google.com/github/trentfridey/qosf-screening/blob/master/Task2.ipynb\" target=\"_parent\"><img src=\"https://colab.research.google.com/assets/colab-badge.svg\" alt=\"Open In Colab\"/></a>"
      ]
    },
    {
      "cell_type": "code",
      "metadata": {
        "id": "85mVYciB6Wph",
        "colab_type": "code",
        "colab": {
          "base_uri": "https://localhost:8080/",
          "height": 1000
        },
        "outputId": "2d9dd5fd-0d27-454b-ae16-d41220f6f4f4"
      },
      "source": [
        "!pip install pennylane\n",
        "!pip install pennylane-cirq"
      ],
      "execution_count": 1,
      "outputs": [
        {
          "output_type": "stream",
          "text": [
            "Collecting pennylane\n",
            "\u001b[?25l  Downloading https://files.pythonhosted.org/packages/e4/47/2774218a53908558eaedc34090b21b473932699bba17765510b43296a0bb/PennyLane-0.11.0-py3-none-any.whl (311kB)\n",
            "\u001b[K     |████████████████████████████████| 317kB 2.7MB/s \n",
            "\u001b[?25hRequirement already satisfied: numpy in /usr/local/lib/python3.6/dist-packages (from pennylane) (1.18.5)\n",
            "Requirement already satisfied: networkx in /usr/local/lib/python3.6/dist-packages (from pennylane) (2.5)\n",
            "Requirement already satisfied: autograd in /usr/local/lib/python3.6/dist-packages (from pennylane) (1.3)\n",
            "Requirement already satisfied: toml in /usr/local/lib/python3.6/dist-packages (from pennylane) (0.10.1)\n",
            "Collecting appdirs\n",
            "  Downloading https://files.pythonhosted.org/packages/3b/00/2344469e2084fb287c2e0b57b72910309874c3245463acd6cf5e3db69324/appdirs-1.4.4-py2.py3-none-any.whl\n",
            "Requirement already satisfied: scipy in /usr/local/lib/python3.6/dist-packages (from pennylane) (1.4.1)\n",
            "Collecting semantic-version==2.6\n",
            "  Downloading https://files.pythonhosted.org/packages/28/be/3a7241d731ba89063780279a5433f5971c1cf41735b64a9f874b7c3ff995/semantic_version-2.6.0-py3-none-any.whl\n",
            "Requirement already satisfied: decorator>=4.3.0 in /usr/local/lib/python3.6/dist-packages (from networkx->pennylane) (4.4.2)\n",
            "Requirement already satisfied: future>=0.15.2 in /usr/local/lib/python3.6/dist-packages (from autograd->pennylane) (0.16.0)\n",
            "Installing collected packages: appdirs, semantic-version, pennylane\n",
            "Successfully installed appdirs-1.4.4 pennylane-0.11.0 semantic-version-2.6.0\n",
            "Collecting pennylane-cirq\n",
            "  Downloading https://files.pythonhosted.org/packages/77/58/3dcbe5444681be23e1cf9670bcb09e671d4b588dab6397ff5b4db5d3e977/PennyLane_Cirq-0.11.0-py3-none-any.whl\n",
            "Requirement already satisfied: pennylane>=0.11 in /usr/local/lib/python3.6/dist-packages (from pennylane-cirq) (0.11.0)\n",
            "Collecting cirq\n",
            "\u001b[?25l  Downloading https://files.pythonhosted.org/packages/1e/5b/6f8cb54ea8c0041ad9c8e4ece07cb5ca9eb1c29de68e68795b4a40d90cc6/cirq-0.8.2-py3-none-any.whl (1.4MB)\n",
            "\u001b[K     |████████████████████████████████| 1.4MB 4.0MB/s \n",
            "\u001b[?25hRequirement already satisfied: appdirs in /usr/local/lib/python3.6/dist-packages (from pennylane>=0.11->pennylane-cirq) (1.4.4)\n",
            "Requirement already satisfied: numpy in /usr/local/lib/python3.6/dist-packages (from pennylane>=0.11->pennylane-cirq) (1.18.5)\n",
            "Requirement already satisfied: networkx in /usr/local/lib/python3.6/dist-packages (from pennylane>=0.11->pennylane-cirq) (2.5)\n",
            "Requirement already satisfied: semantic-version==2.6 in /usr/local/lib/python3.6/dist-packages (from pennylane>=0.11->pennylane-cirq) (2.6.0)\n",
            "Requirement already satisfied: autograd in /usr/local/lib/python3.6/dist-packages (from pennylane>=0.11->pennylane-cirq) (1.3)\n",
            "Requirement already satisfied: toml in /usr/local/lib/python3.6/dist-packages (from pennylane>=0.11->pennylane-cirq) (0.10.1)\n",
            "Requirement already satisfied: scipy in /usr/local/lib/python3.6/dist-packages (from pennylane>=0.11->pennylane-cirq) (1.4.1)\n",
            "Requirement already satisfied: sympy in /usr/local/lib/python3.6/dist-packages (from cirq->pennylane-cirq) (1.1.1)\n",
            "Requirement already satisfied: sortedcontainers~=2.0 in /usr/local/lib/python3.6/dist-packages (from cirq->pennylane-cirq) (2.2.2)\n",
            "Collecting freezegun~=0.3.15\n",
            "  Downloading https://files.pythonhosted.org/packages/17/5d/1b9d6d3c7995fff473f35861d674e0113a5f0bd5a72fe0199c3f254665c7/freezegun-0.3.15-py2.py3-none-any.whl\n",
            "Requirement already satisfied: pandas in /usr/local/lib/python3.6/dist-packages (from cirq->pennylane-cirq) (1.0.5)\n",
            "Requirement already satisfied: protobuf~=3.12.0 in /usr/local/lib/python3.6/dist-packages (from cirq->pennylane-cirq) (3.12.4)\n",
            "Requirement already satisfied: requests~=2.18 in /usr/local/lib/python3.6/dist-packages (from cirq->pennylane-cirq) (2.23.0)\n",
            "Requirement already satisfied: google-api-core[grpc]<2.0.0dev,>=1.14.0 in /usr/local/lib/python3.6/dist-packages (from cirq->pennylane-cirq) (1.16.0)\n",
            "Requirement already satisfied: matplotlib~=3.0 in /usr/local/lib/python3.6/dist-packages (from cirq->pennylane-cirq) (3.2.2)\n",
            "Requirement already satisfied: dataclasses; python_version < \"3.7\" in /usr/local/lib/python3.6/dist-packages (from cirq->pennylane-cirq) (0.7)\n",
            "Requirement already satisfied: typing-extensions in /usr/local/lib/python3.6/dist-packages (from cirq->pennylane-cirq) (3.7.4.3)\n",
            "Requirement already satisfied: decorator>=4.3.0 in /usr/local/lib/python3.6/dist-packages (from networkx->pennylane>=0.11->pennylane-cirq) (4.4.2)\n",
            "Requirement already satisfied: future>=0.15.2 in /usr/local/lib/python3.6/dist-packages (from autograd->pennylane>=0.11->pennylane-cirq) (0.16.0)\n",
            "Requirement already satisfied: mpmath>=0.19 in /usr/local/lib/python3.6/dist-packages (from sympy->cirq->pennylane-cirq) (1.1.0)\n",
            "Requirement already satisfied: python-dateutil!=2.0,>=1.0 in /usr/local/lib/python3.6/dist-packages (from freezegun~=0.3.15->cirq->pennylane-cirq) (2.8.1)\n",
            "Requirement already satisfied: six in /usr/local/lib/python3.6/dist-packages (from freezegun~=0.3.15->cirq->pennylane-cirq) (1.15.0)\n",
            "Requirement already satisfied: pytz>=2017.2 in /usr/local/lib/python3.6/dist-packages (from pandas->cirq->pennylane-cirq) (2018.9)\n",
            "Requirement already satisfied: setuptools in /usr/local/lib/python3.6/dist-packages (from protobuf~=3.12.0->cirq->pennylane-cirq) (50.3.0)\n",
            "Requirement already satisfied: chardet<4,>=3.0.2 in /usr/local/lib/python3.6/dist-packages (from requests~=2.18->cirq->pennylane-cirq) (3.0.4)\n",
            "Requirement already satisfied: certifi>=2017.4.17 in /usr/local/lib/python3.6/dist-packages (from requests~=2.18->cirq->pennylane-cirq) (2020.6.20)\n",
            "Requirement already satisfied: idna<3,>=2.5 in /usr/local/lib/python3.6/dist-packages (from requests~=2.18->cirq->pennylane-cirq) (2.10)\n",
            "Requirement already satisfied: urllib3!=1.25.0,!=1.25.1,<1.26,>=1.21.1 in /usr/local/lib/python3.6/dist-packages (from requests~=2.18->cirq->pennylane-cirq) (1.24.3)\n",
            "Requirement already satisfied: googleapis-common-protos<2.0dev,>=1.6.0 in /usr/local/lib/python3.6/dist-packages (from google-api-core[grpc]<2.0.0dev,>=1.14.0->cirq->pennylane-cirq) (1.52.0)\n",
            "Requirement already satisfied: google-auth<2.0dev,>=0.4.0 in /usr/local/lib/python3.6/dist-packages (from google-api-core[grpc]<2.0.0dev,>=1.14.0->cirq->pennylane-cirq) (1.17.2)\n",
            "Requirement already satisfied: grpcio<2.0dev,>=1.8.2; extra == \"grpc\" in /usr/local/lib/python3.6/dist-packages (from google-api-core[grpc]<2.0.0dev,>=1.14.0->cirq->pennylane-cirq) (1.32.0)\n",
            "Requirement already satisfied: cycler>=0.10 in /usr/local/lib/python3.6/dist-packages (from matplotlib~=3.0->cirq->pennylane-cirq) (0.10.0)\n",
            "Requirement already satisfied: kiwisolver>=1.0.1 in /usr/local/lib/python3.6/dist-packages (from matplotlib~=3.0->cirq->pennylane-cirq) (1.2.0)\n",
            "Requirement already satisfied: pyparsing!=2.0.4,!=2.1.2,!=2.1.6,>=2.0.1 in /usr/local/lib/python3.6/dist-packages (from matplotlib~=3.0->cirq->pennylane-cirq) (2.4.7)\n",
            "Requirement already satisfied: pyasn1-modules>=0.2.1 in /usr/local/lib/python3.6/dist-packages (from google-auth<2.0dev,>=0.4.0->google-api-core[grpc]<2.0.0dev,>=1.14.0->cirq->pennylane-cirq) (0.2.8)\n",
            "Requirement already satisfied: cachetools<5.0,>=2.0.0 in /usr/local/lib/python3.6/dist-packages (from google-auth<2.0dev,>=0.4.0->google-api-core[grpc]<2.0.0dev,>=1.14.0->cirq->pennylane-cirq) (4.1.1)\n",
            "Requirement already satisfied: rsa<5,>=3.1.4; python_version >= \"3\" in /usr/local/lib/python3.6/dist-packages (from google-auth<2.0dev,>=0.4.0->google-api-core[grpc]<2.0.0dev,>=1.14.0->cirq->pennylane-cirq) (4.6)\n",
            "Requirement already satisfied: pyasn1<0.5.0,>=0.4.6 in /usr/local/lib/python3.6/dist-packages (from pyasn1-modules>=0.2.1->google-auth<2.0dev,>=0.4.0->google-api-core[grpc]<2.0.0dev,>=1.14.0->cirq->pennylane-cirq) (0.4.8)\n",
            "Installing collected packages: freezegun, cirq, pennylane-cirq\n",
            "Successfully installed cirq-0.8.2 freezegun-0.3.15 pennylane-cirq-0.11.0\n"
          ],
          "name": "stdout"
        }
      ]
    },
    {
      "cell_type": "markdown",
      "metadata": {
        "id": "b3C6kX7MVnB3",
        "colab_type": "text"
      },
      "source": [
        "# Task 2\n",
        "\n",
        "In this notebook, we explore implementing a circuit operating on two qubits initially in the state $|00\\rangle$ to return the states $|01\\rangle$ and $|10\\rangle$ with equal probability. The circuit is a variational circuit composed of an $R_x$ gate, an $R_y$ gate, and a $CNOT$ gate. It is subject to bitflip noise on both qubits. We see how it performs for a limited number of measurements"
      ]
    },
    {
      "cell_type": "markdown",
      "metadata": {
        "id": "KNUGPbQ4WLOl",
        "colab_type": "text"
      },
      "source": [
        "## Analysis\n",
        "\n",
        "In order to train the parameters of the circuit (i.e. the angles of the $R_x$ and $R_y$ gates), we define a cost function:\n",
        "\n",
        "$$\n",
        "C(|\\psi(\\theta)\\rangle) = 2-\\langle \\psi(\\theta)| U | \\psi(\\theta)\\rangle\n",
        "$$\n",
        "\n",
        "Where $U$ is the unitary operator:\n",
        "\n",
        "$$\n",
        "U = \\left(\\begin{matrix} 1 & 0 & 0 & 0 \\\\\n",
        "  0 & 0 & 2 & 0 \\\\\n",
        "  0 & 2 & 0 & 0 \\\\\n",
        "  0 & 0 & 0 & 1\n",
        "  \\end{matrix}\\right)\n",
        "$$\n",
        "\n",
        "By inspection, this matrix has the eigenvector $\\frac{1}{\\sqrt2}\\left(|01\\rangle + |10\\rangle\\right)$ with the highest eigenvalue $2$. Hence, optimizing for the expectation value to equal its highest eigenvalue will lead the circuit to prepare the desired state\n",
        "\n",
        "The ansatz for the circuit is $CNOT*R_y(\\theta_y)\\otimes R_x(\\theta_x)$"
      ]
    },
    {
      "cell_type": "code",
      "metadata": {
        "id": "yKlU_x1P5uD9",
        "colab_type": "code",
        "colab": {}
      },
      "source": [
        "import pennylane as qml\n",
        "import numpy as np\n",
        "from pennylane_cirq import ops"
      ],
      "execution_count": 1,
      "outputs": []
    },
    {
      "cell_type": "code",
      "metadata": {
        "id": "ayARNvy06UVN",
        "colab_type": "code",
        "colab": {}
      },
      "source": [
        "# Definitions\n",
        "\n",
        "observable = qml.Hermitian(np.array([[1,0,0,0],[0,0,2,0],[0,2,0,0],[0,0,0,1]]), wires=[0,1])\n",
        "\n",
        "def compute_circ_params(n_shots):\n",
        "  \n",
        "  # Device setup\n",
        "\n",
        "  dev = qml.device('cirq.mixedsimulator', wires=2, shots=n_shots, analytic=False)\n",
        "\n",
        "  @qml.qnode(dev)\n",
        "  def ansatz(thetas):\n",
        "    qml.RY(thetas[0], wires=0)\n",
        "    qml.RX(thetas[1], wires=1)\n",
        "    qml.CNOT(wires=[0,1])\n",
        "\n",
        "    # Here we add in the BitFlip operator for modelling noise\n",
        "    ops.BitFlip(0.5, wires=0)\n",
        "    ops.BitFlip(0.5, wires=1)\n",
        "    return qml.expval(observable)\n",
        "\n",
        "  def cost_fn(thetas):\n",
        "    return 2 - ansatz(thetas)\n",
        "\n",
        "  # Optimization\n",
        "\n",
        "  steps = 200\n",
        "\n",
        "  init_params = np.random.normal(0, np.pi, 2)\n",
        "\n",
        "  params = init_params\n",
        "\n",
        "  opt = qml.GradientDescentOptimizer(stepsize=0.4)\n",
        "\n",
        "  for i in range(steps):\n",
        "    params = opt.step(cost_fn, params)\n",
        "\n",
        "  print(\"Optimized: angles: {}, {} | cost: {}\".format(params[0], params[1], cost_fn(params)))\n",
        "  return params\n",
        "\n"
      ],
      "execution_count": 39,
      "outputs": []
    },
    {
      "cell_type": "code",
      "metadata": {
        "id": "GP2Er1osA11a",
        "colab_type": "code",
        "colab": {
          "base_uri": "https://localhost:8080/",
          "height": 109
        },
        "outputId": "8eb19870-1a4d-44ba-9a8c-63eeedf2b213"
      },
      "source": [
        "optimized = []\n",
        "for n in [1,10,100,1000,1000]:\n",
        "  optimized += [compute_circ_params(n)]\n"
      ],
      "execution_count": 40,
      "outputs": [
        {
          "output_type": "stream",
          "text": [
            "Optimized: angles: 1.7899020447955365, 0.11924838313987218 | cost: 1.0\n",
            "Optimized: angles: 1.5473472899629015, -0.5908439593496232 | cost: 0.5\n",
            "Optimized: angles: -4.69396942362689, -5.030745485015755 | cost: 0.51\n",
            "Optimized: angles: -4.708156126380034, -1.5692346171797202 | cost: 0.506\n",
            "Optimized: angles: -4.726643779709236, 4.756117147357814 | cost: 0.4810000000000001\n"
          ],
          "name": "stdout"
        }
      ]
    },
    {
      "cell_type": "markdown",
      "metadata": {
        "id": "zKMuEH3OdL-3",
        "colab_type": "text"
      },
      "source": [
        "## Conclusion\n",
        "\n",
        "By allowing more samples in our trials, we can see some indication that the minimum cost function is improving. This may also be balanced with the probability of getting a bitflip during each trial, so more analysis regarding where the balance lies could be beneficial"
      ]
    },
    {
      "cell_type": "code",
      "metadata": {
        "id": "2Kwqs1RRduv2",
        "colab_type": "code",
        "colab": {}
      },
      "source": [
        ""
      ],
      "execution_count": null,
      "outputs": []
    }
  ]
}