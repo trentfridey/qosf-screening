{
  "nbformat": 4,
  "nbformat_minor": 0,
  "metadata": {
    "colab": {
      "name": "Untitled0.ipynb",
      "provenance": [],
      "authorship_tag": "ABX9TyMdAUGwjZPwoabALtuqamCp",
      "include_colab_link": true
    },
    "kernelspec": {
      "name": "python3",
      "display_name": "Python 3"
    }
  },
  "cells": [
    {
      "cell_type": "markdown",
      "metadata": {
        "id": "view-in-github",
        "colab_type": "text"
      },
      "source": [
        "<a href=\"https://colab.research.google.com/github/trentfridey/qosf-screening/blob/master/task1.ipynb\" target=\"_parent\"><img src=\"https://colab.research.google.com/assets/colab-badge.svg\" alt=\"Open In Colab\"/></a>"
      ]
    },
    {
      "cell_type": "code",
      "metadata": {
        "id": "nknxAlZAyhP1",
        "colab_type": "code",
        "colab": {
          "base_uri": "https://localhost:8080/",
          "height": 1000
        },
        "outputId": "9d968d8a-7e34-42d9-e32b-1b5dfbb2f75f"
      },
      "source": [
        "!pip install tensorflow==2.1.0\n",
        "!pip install tensorflow-quantum"
      ],
      "execution_count": 1,
      "outputs": [
        {
          "output_type": "stream",
          "text": [
            "Collecting tensorflow==2.1.0\n",
            "\u001b[?25l  Downloading https://files.pythonhosted.org/packages/85/d4/c0cd1057b331bc38b65478302114194bd8e1b9c2bbc06e300935c0e93d90/tensorflow-2.1.0-cp36-cp36m-manylinux2010_x86_64.whl (421.8MB)\n",
            "\u001b[K     |████████████████████████████████| 421.8MB 39kB/s \n",
            "\u001b[?25hCollecting gast==0.2.2\n",
            "  Downloading https://files.pythonhosted.org/packages/4e/35/11749bf99b2d4e3cceb4d55ca22590b0d7c2c62b9de38ac4a4a7f4687421/gast-0.2.2.tar.gz\n",
            "Requirement already satisfied: absl-py>=0.7.0 in /usr/local/lib/python3.6/dist-packages (from tensorflow==2.1.0) (0.8.1)\n",
            "Collecting tensorboard<2.2.0,>=2.1.0\n",
            "\u001b[?25l  Downloading https://files.pythonhosted.org/packages/d9/41/bbf49b61370e4f4d245d4c6051dfb6db80cec672605c91b1652ac8cc3d38/tensorboard-2.1.1-py3-none-any.whl (3.8MB)\n",
            "\u001b[K     |████████████████████████████████| 3.9MB 42.6MB/s \n",
            "\u001b[?25hCollecting tensorflow-estimator<2.2.0,>=2.1.0rc0\n",
            "\u001b[?25l  Downloading https://files.pythonhosted.org/packages/18/90/b77c328a1304437ab1310b463e533fa7689f4bfc41549593056d812fab8e/tensorflow_estimator-2.1.0-py2.py3-none-any.whl (448kB)\n",
            "\u001b[K     |████████████████████████████████| 450kB 44.8MB/s \n",
            "\u001b[?25hRequirement already satisfied: astor>=0.6.0 in /usr/local/lib/python3.6/dist-packages (from tensorflow==2.1.0) (0.8.1)\n",
            "Requirement already satisfied: protobuf>=3.8.0 in /usr/local/lib/python3.6/dist-packages (from tensorflow==2.1.0) (3.12.4)\n",
            "Requirement already satisfied: wheel>=0.26; python_version >= \"3\" in /usr/local/lib/python3.6/dist-packages (from tensorflow==2.1.0) (0.35.1)\n",
            "Requirement already satisfied: termcolor>=1.1.0 in /usr/local/lib/python3.6/dist-packages (from tensorflow==2.1.0) (1.1.0)\n",
            "Requirement already satisfied: keras-preprocessing>=1.1.0 in /usr/local/lib/python3.6/dist-packages (from tensorflow==2.1.0) (1.1.2)\n",
            "Requirement already satisfied: numpy<2.0,>=1.16.0 in /usr/local/lib/python3.6/dist-packages (from tensorflow==2.1.0) (1.18.5)\n",
            "Collecting keras-applications>=1.0.8\n",
            "\u001b[?25l  Downloading https://files.pythonhosted.org/packages/71/e3/19762fdfc62877ae9102edf6342d71b28fbfd9dea3d2f96a882ce099b03f/Keras_Applications-1.0.8-py3-none-any.whl (50kB)\n",
            "\u001b[K     |████████████████████████████████| 51kB 5.0MB/s \n",
            "\u001b[?25hRequirement already satisfied: grpcio>=1.8.6 in /usr/local/lib/python3.6/dist-packages (from tensorflow==2.1.0) (1.31.0)\n",
            "Requirement already satisfied: google-pasta>=0.1.6 in /usr/local/lib/python3.6/dist-packages (from tensorflow==2.1.0) (0.2.0)\n",
            "Requirement already satisfied: six>=1.12.0 in /usr/local/lib/python3.6/dist-packages (from tensorflow==2.1.0) (1.15.0)\n",
            "Requirement already satisfied: wrapt>=1.11.1 in /usr/local/lib/python3.6/dist-packages (from tensorflow==2.1.0) (1.12.1)\n",
            "Requirement already satisfied: opt-einsum>=2.3.2 in /usr/local/lib/python3.6/dist-packages (from tensorflow==2.1.0) (3.3.0)\n",
            "Requirement already satisfied: scipy==1.4.1; python_version >= \"3\" in /usr/local/lib/python3.6/dist-packages (from tensorflow==2.1.0) (1.4.1)\n",
            "Requirement already satisfied: google-auth<2,>=1.6.3 in /usr/local/lib/python3.6/dist-packages (from tensorboard<2.2.0,>=2.1.0->tensorflow==2.1.0) (1.17.2)\n",
            "Requirement already satisfied: setuptools>=41.0.0 in /usr/local/lib/python3.6/dist-packages (from tensorboard<2.2.0,>=2.1.0->tensorflow==2.1.0) (49.6.0)\n",
            "Requirement already satisfied: markdown>=2.6.8 in /usr/local/lib/python3.6/dist-packages (from tensorboard<2.2.0,>=2.1.0->tensorflow==2.1.0) (3.2.2)\n",
            "Requirement already satisfied: google-auth-oauthlib<0.5,>=0.4.1 in /usr/local/lib/python3.6/dist-packages (from tensorboard<2.2.0,>=2.1.0->tensorflow==2.1.0) (0.4.1)\n",
            "Requirement already satisfied: requests<3,>=2.21.0 in /usr/local/lib/python3.6/dist-packages (from tensorboard<2.2.0,>=2.1.0->tensorflow==2.1.0) (2.23.0)\n",
            "Requirement already satisfied: werkzeug>=0.11.15 in /usr/local/lib/python3.6/dist-packages (from tensorboard<2.2.0,>=2.1.0->tensorflow==2.1.0) (1.0.1)\n",
            "Requirement already satisfied: h5py in /usr/local/lib/python3.6/dist-packages (from keras-applications>=1.0.8->tensorflow==2.1.0) (2.10.0)\n",
            "Requirement already satisfied: rsa<5,>=3.1.4; python_version >= \"3\" in /usr/local/lib/python3.6/dist-packages (from google-auth<2,>=1.6.3->tensorboard<2.2.0,>=2.1.0->tensorflow==2.1.0) (4.6)\n",
            "Requirement already satisfied: pyasn1-modules>=0.2.1 in /usr/local/lib/python3.6/dist-packages (from google-auth<2,>=1.6.3->tensorboard<2.2.0,>=2.1.0->tensorflow==2.1.0) (0.2.8)\n",
            "Requirement already satisfied: cachetools<5.0,>=2.0.0 in /usr/local/lib/python3.6/dist-packages (from google-auth<2,>=1.6.3->tensorboard<2.2.0,>=2.1.0->tensorflow==2.1.0) (4.1.1)\n",
            "Requirement already satisfied: importlib-metadata; python_version < \"3.8\" in /usr/local/lib/python3.6/dist-packages (from markdown>=2.6.8->tensorboard<2.2.0,>=2.1.0->tensorflow==2.1.0) (1.7.0)\n",
            "Requirement already satisfied: requests-oauthlib>=0.7.0 in /usr/local/lib/python3.6/dist-packages (from google-auth-oauthlib<0.5,>=0.4.1->tensorboard<2.2.0,>=2.1.0->tensorflow==2.1.0) (1.3.0)\n",
            "Requirement already satisfied: urllib3!=1.25.0,!=1.25.1,<1.26,>=1.21.1 in /usr/local/lib/python3.6/dist-packages (from requests<3,>=2.21.0->tensorboard<2.2.0,>=2.1.0->tensorflow==2.1.0) (1.24.3)\n",
            "Requirement already satisfied: idna<3,>=2.5 in /usr/local/lib/python3.6/dist-packages (from requests<3,>=2.21.0->tensorboard<2.2.0,>=2.1.0->tensorflow==2.1.0) (2.10)\n",
            "Requirement already satisfied: chardet<4,>=3.0.2 in /usr/local/lib/python3.6/dist-packages (from requests<3,>=2.21.0->tensorboard<2.2.0,>=2.1.0->tensorflow==2.1.0) (3.0.4)\n",
            "Requirement already satisfied: certifi>=2017.4.17 in /usr/local/lib/python3.6/dist-packages (from requests<3,>=2.21.0->tensorboard<2.2.0,>=2.1.0->tensorflow==2.1.0) (2020.6.20)\n",
            "Requirement already satisfied: pyasn1>=0.1.3 in /usr/local/lib/python3.6/dist-packages (from rsa<5,>=3.1.4; python_version >= \"3\"->google-auth<2,>=1.6.3->tensorboard<2.2.0,>=2.1.0->tensorflow==2.1.0) (0.4.8)\n",
            "Requirement already satisfied: zipp>=0.5 in /usr/local/lib/python3.6/dist-packages (from importlib-metadata; python_version < \"3.8\"->markdown>=2.6.8->tensorboard<2.2.0,>=2.1.0->tensorflow==2.1.0) (3.1.0)\n",
            "Requirement already satisfied: oauthlib>=3.0.0 in /usr/local/lib/python3.6/dist-packages (from requests-oauthlib>=0.7.0->google-auth-oauthlib<0.5,>=0.4.1->tensorboard<2.2.0,>=2.1.0->tensorflow==2.1.0) (3.1.0)\n",
            "Building wheels for collected packages: gast\n",
            "  Building wheel for gast (setup.py) ... \u001b[?25l\u001b[?25hdone\n",
            "  Created wheel for gast: filename=gast-0.2.2-cp36-none-any.whl size=7542 sha256=bb8970e5c65d2f8fd3fff2aca35ed1b925fe727fee9f5f37456cc8b287afe9d7\n",
            "  Stored in directory: /root/.cache/pip/wheels/5c/2e/7e/a1d4d4fcebe6c381f378ce7743a3ced3699feb89bcfbdadadd\n",
            "Successfully built gast\n",
            "\u001b[31mERROR: tensorflow-probability 0.11.0 has requirement gast>=0.3.2, but you'll have gast 0.2.2 which is incompatible.\u001b[0m\n",
            "Installing collected packages: gast, tensorboard, tensorflow-estimator, keras-applications, tensorflow\n",
            "  Found existing installation: gast 0.3.3\n",
            "    Uninstalling gast-0.3.3:\n",
            "      Successfully uninstalled gast-0.3.3\n",
            "  Found existing installation: tensorboard 2.3.0\n",
            "    Uninstalling tensorboard-2.3.0:\n",
            "      Successfully uninstalled tensorboard-2.3.0\n",
            "  Found existing installation: tensorflow-estimator 2.3.0\n",
            "    Uninstalling tensorflow-estimator-2.3.0:\n",
            "      Successfully uninstalled tensorflow-estimator-2.3.0\n",
            "  Found existing installation: tensorflow 2.3.0\n",
            "    Uninstalling tensorflow-2.3.0:\n",
            "      Successfully uninstalled tensorflow-2.3.0\n",
            "Successfully installed gast-0.2.2 keras-applications-1.0.8 tensorboard-2.1.1 tensorflow-2.1.0 tensorflow-estimator-2.1.0\n",
            "Collecting tensorflow-quantum\n",
            "\u001b[?25l  Downloading https://files.pythonhosted.org/packages/eb/76/766f7ef3f57abf1467bf1a591a5e6776f1166420a90ea05af9ca5e25d768/tensorflow_quantum-0.3.1-cp36-cp36m-manylinux2010_x86_64.whl (3.9MB)\n",
            "\u001b[K     |████████████████████████████████| 3.9MB 3.4MB/s \n",
            "\u001b[?25hCollecting cirq==0.8.0\n",
            "\u001b[?25l  Downloading https://files.pythonhosted.org/packages/b8/cf/d95635b4b0de2227956077687277426299883ccdb9e6418fa6e599893ea3/cirq-0.8.0-py3-none-any.whl (1.4MB)\n",
            "\u001b[K     |████████████████████████████████| 1.4MB 44.1MB/s \n",
            "\u001b[?25hCollecting sympy==1.4\n",
            "\u001b[?25l  Downloading https://files.pythonhosted.org/packages/21/21/f4105795ca7f35c541d82c5b06be684dd2f5cb4f508fb487cd7aea4de776/sympy-1.4-py2.py3-none-any.whl (5.3MB)\n",
            "\u001b[K     |████████████████████████████████| 5.3MB 44.4MB/s \n",
            "\u001b[?25hCollecting pathos==0.2.5\n",
            "\u001b[?25l  Downloading https://files.pythonhosted.org/packages/c6/a2/cd59f73d5ede4f122687bf8f63de5d671c9561e493ca699241f05b038278/pathos-0.2.5.tar.gz (162kB)\n",
            "\u001b[K     |████████████████████████████████| 163kB 45.2MB/s \n",
            "\u001b[?25hRequirement already satisfied: typing-extensions in /usr/local/lib/python3.6/dist-packages (from cirq==0.8.0->tensorflow-quantum) (3.7.4.3)\n",
            "Requirement already satisfied: google-api-core[grpc]<2.0.0dev,>=1.14.0 in /usr/local/lib/python3.6/dist-packages (from cirq==0.8.0->tensorflow-quantum) (1.16.0)\n",
            "Requirement already satisfied: requests~=2.18 in /usr/local/lib/python3.6/dist-packages (from cirq==0.8.0->tensorflow-quantum) (2.23.0)\n",
            "Requirement already satisfied: sortedcontainers~=2.0 in /usr/local/lib/python3.6/dist-packages (from cirq==0.8.0->tensorflow-quantum) (2.2.2)\n",
            "Requirement already satisfied: dataclasses; python_version < \"3.7\" in /usr/local/lib/python3.6/dist-packages (from cirq==0.8.0->tensorflow-quantum) (0.7)\n",
            "Collecting freezegun~=0.3.15\n",
            "  Downloading https://files.pythonhosted.org/packages/17/5d/1b9d6d3c7995fff473f35861d674e0113a5f0bd5a72fe0199c3f254665c7/freezegun-0.3.15-py2.py3-none-any.whl\n",
            "Requirement already satisfied: matplotlib~=3.0 in /usr/local/lib/python3.6/dist-packages (from cirq==0.8.0->tensorflow-quantum) (3.2.2)\n",
            "Requirement already satisfied: numpy~=1.16 in /usr/local/lib/python3.6/dist-packages (from cirq==0.8.0->tensorflow-quantum) (1.18.5)\n",
            "Requirement already satisfied: scipy in /usr/local/lib/python3.6/dist-packages (from cirq==0.8.0->tensorflow-quantum) (1.4.1)\n",
            "Collecting protobuf==3.8.0\n",
            "\u001b[?25l  Downloading https://files.pythonhosted.org/packages/d2/fb/29de8d08967f0cce1bb10b39846d836b0f3bf6776ddc36aed7c73498ca7e/protobuf-3.8.0-cp36-cp36m-manylinux1_x86_64.whl (1.2MB)\n",
            "\u001b[K     |████████████████████████████████| 1.2MB 45.0MB/s \n",
            "\u001b[?25hRequirement already satisfied: pandas in /usr/local/lib/python3.6/dist-packages (from cirq==0.8.0->tensorflow-quantum) (1.0.5)\n",
            "Requirement already satisfied: networkx~=2.4 in /usr/local/lib/python3.6/dist-packages (from cirq==0.8.0->tensorflow-quantum) (2.5)\n",
            "Requirement already satisfied: mpmath>=0.19 in /usr/local/lib/python3.6/dist-packages (from sympy==1.4->tensorflow-quantum) (1.1.0)\n",
            "Collecting ppft>=1.6.6.1\n",
            "\u001b[?25l  Downloading https://files.pythonhosted.org/packages/2b/fb/fa21f6e9aedc4823448473ed96e8eab64af1cb248c18165f045a90e1c6b4/ppft-1.6.6.2.zip (106kB)\n",
            "\u001b[K     |████████████████████████████████| 112kB 50.0MB/s \n",
            "\u001b[?25hRequirement already satisfied: dill>=0.3.1 in /usr/local/lib/python3.6/dist-packages (from pathos==0.2.5->tensorflow-quantum) (0.3.2)\n",
            "Collecting pox>=0.2.7\n",
            "\u001b[?25l  Downloading https://files.pythonhosted.org/packages/1a/0c/ec447fb0ed88bc1c09bf0dadf00e40ea05fda17e841d15bb351a52d9e192/pox-0.2.8.zip (128kB)\n",
            "\u001b[K     |████████████████████████████████| 133kB 42.2MB/s \n",
            "\u001b[?25hRequirement already satisfied: multiprocess>=0.70.9 in /usr/local/lib/python3.6/dist-packages (from pathos==0.2.5->tensorflow-quantum) (0.70.10)\n",
            "Requirement already satisfied: setuptools>=34.0.0 in /usr/local/lib/python3.6/dist-packages (from google-api-core[grpc]<2.0.0dev,>=1.14.0->cirq==0.8.0->tensorflow-quantum) (49.6.0)\n",
            "Requirement already satisfied: google-auth<2.0dev,>=0.4.0 in /usr/local/lib/python3.6/dist-packages (from google-api-core[grpc]<2.0.0dev,>=1.14.0->cirq==0.8.0->tensorflow-quantum) (1.17.2)\n",
            "Requirement already satisfied: pytz in /usr/local/lib/python3.6/dist-packages (from google-api-core[grpc]<2.0.0dev,>=1.14.0->cirq==0.8.0->tensorflow-quantum) (2018.9)\n",
            "Requirement already satisfied: googleapis-common-protos<2.0dev,>=1.6.0 in /usr/local/lib/python3.6/dist-packages (from google-api-core[grpc]<2.0.0dev,>=1.14.0->cirq==0.8.0->tensorflow-quantum) (1.52.0)\n",
            "Requirement already satisfied: six>=1.10.0 in /usr/local/lib/python3.6/dist-packages (from google-api-core[grpc]<2.0.0dev,>=1.14.0->cirq==0.8.0->tensorflow-quantum) (1.15.0)\n",
            "Requirement already satisfied: grpcio<2.0dev,>=1.8.2; extra == \"grpc\" in /usr/local/lib/python3.6/dist-packages (from google-api-core[grpc]<2.0.0dev,>=1.14.0->cirq==0.8.0->tensorflow-quantum) (1.31.0)\n",
            "Requirement already satisfied: urllib3!=1.25.0,!=1.25.1,<1.26,>=1.21.1 in /usr/local/lib/python3.6/dist-packages (from requests~=2.18->cirq==0.8.0->tensorflow-quantum) (1.24.3)\n",
            "Requirement already satisfied: certifi>=2017.4.17 in /usr/local/lib/python3.6/dist-packages (from requests~=2.18->cirq==0.8.0->tensorflow-quantum) (2020.6.20)\n",
            "Requirement already satisfied: idna<3,>=2.5 in /usr/local/lib/python3.6/dist-packages (from requests~=2.18->cirq==0.8.0->tensorflow-quantum) (2.10)\n",
            "Requirement already satisfied: chardet<4,>=3.0.2 in /usr/local/lib/python3.6/dist-packages (from requests~=2.18->cirq==0.8.0->tensorflow-quantum) (3.0.4)\n",
            "Requirement already satisfied: python-dateutil!=2.0,>=1.0 in /usr/local/lib/python3.6/dist-packages (from freezegun~=0.3.15->cirq==0.8.0->tensorflow-quantum) (2.8.1)\n",
            "Requirement already satisfied: cycler>=0.10 in /usr/local/lib/python3.6/dist-packages (from matplotlib~=3.0->cirq==0.8.0->tensorflow-quantum) (0.10.0)\n",
            "Requirement already satisfied: kiwisolver>=1.0.1 in /usr/local/lib/python3.6/dist-packages (from matplotlib~=3.0->cirq==0.8.0->tensorflow-quantum) (1.2.0)\n",
            "Requirement already satisfied: pyparsing!=2.0.4,!=2.1.2,!=2.1.6,>=2.0.1 in /usr/local/lib/python3.6/dist-packages (from matplotlib~=3.0->cirq==0.8.0->tensorflow-quantum) (2.4.7)\n",
            "Requirement already satisfied: decorator>=4.3.0 in /usr/local/lib/python3.6/dist-packages (from networkx~=2.4->cirq==0.8.0->tensorflow-quantum) (4.4.2)\n",
            "Requirement already satisfied: rsa<5,>=3.1.4; python_version >= \"3\" in /usr/local/lib/python3.6/dist-packages (from google-auth<2.0dev,>=0.4.0->google-api-core[grpc]<2.0.0dev,>=1.14.0->cirq==0.8.0->tensorflow-quantum) (4.6)\n",
            "Requirement already satisfied: cachetools<5.0,>=2.0.0 in /usr/local/lib/python3.6/dist-packages (from google-auth<2.0dev,>=0.4.0->google-api-core[grpc]<2.0.0dev,>=1.14.0->cirq==0.8.0->tensorflow-quantum) (4.1.1)\n",
            "Requirement already satisfied: pyasn1-modules>=0.2.1 in /usr/local/lib/python3.6/dist-packages (from google-auth<2.0dev,>=0.4.0->google-api-core[grpc]<2.0.0dev,>=1.14.0->cirq==0.8.0->tensorflow-quantum) (0.2.8)\n",
            "Requirement already satisfied: pyasn1>=0.1.3 in /usr/local/lib/python3.6/dist-packages (from rsa<5,>=3.1.4; python_version >= \"3\"->google-auth<2.0dev,>=0.4.0->google-api-core[grpc]<2.0.0dev,>=1.14.0->cirq==0.8.0->tensorflow-quantum) (0.4.8)\n",
            "Building wheels for collected packages: pathos, ppft, pox\n",
            "  Building wheel for pathos (setup.py) ... \u001b[?25l\u001b[?25hdone\n",
            "  Created wheel for pathos: filename=pathos-0.2.5-cp36-none-any.whl size=77577 sha256=96d027de9371fffff0eb47d9fafa6cb276feb05d81b530860225dc5e481b54c6\n",
            "  Stored in directory: /root/.cache/pip/wheels/61/6d/83/90b0c3d2c271da2c4850731e894798c98f8dbedbac74e8eff0\n",
            "  Building wheel for ppft (setup.py) ... \u001b[?25l\u001b[?25hdone\n",
            "  Created wheel for ppft: filename=ppft-1.6.6.2-cp36-none-any.whl size=64743 sha256=04bdfcbc945a33d84eb796a2f9d1c2444ddbe64aecbb8ba209096d47cfc2b58f\n",
            "  Stored in directory: /root/.cache/pip/wheels/db/d2/2d/0ee21ede61786bb13247dbc69079373fd500c2bb0481913084\n",
            "  Building wheel for pox (setup.py) ... \u001b[?25l\u001b[?25hdone\n",
            "  Created wheel for pox: filename=pox-0.2.8-cp36-none-any.whl size=28290 sha256=be6c4c711b476be4f8f1ffbb006d705d367976c560f6a3cf3ab862a4dd057020\n",
            "  Stored in directory: /root/.cache/pip/wheels/39/ed/ce/a93103746b327e18bffaeb99ba0d57a88b392f31d719cea700\n",
            "Successfully built pathos ppft pox\n",
            "Installing collected packages: freezegun, protobuf, sympy, cirq, ppft, pox, pathos, tensorflow-quantum\n",
            "  Found existing installation: protobuf 3.12.4\n",
            "    Uninstalling protobuf-3.12.4:\n",
            "      Successfully uninstalled protobuf-3.12.4\n",
            "  Found existing installation: sympy 1.1.1\n",
            "    Uninstalling sympy-1.1.1:\n",
            "      Successfully uninstalled sympy-1.1.1\n",
            "Successfully installed cirq-0.8.0 freezegun-0.3.15 pathos-0.2.5 pox-0.2.8 ppft-1.6.6.2 protobuf-3.8.0 sympy-1.4 tensorflow-quantum-0.3.1\n"
          ],
          "name": "stdout"
        },
        {
          "output_type": "display_data",
          "data": {
            "application/vnd.colab-display-data+json": {
              "pip_warning": {
                "packages": [
                  "google"
                ]
              }
            }
          },
          "metadata": {
            "tags": []
          }
        }
      ]
    },
    {
      "cell_type": "code",
      "metadata": {
        "id": "UAurHNasyvhC",
        "colab_type": "code",
        "colab": {}
      },
      "source": [
        "import tensorflow as tf\n",
        "import tensorflow_quantum as tfq\n",
        "\n",
        "import cirq\n",
        "import sympy\n",
        "import numpy as np\n",
        "\n",
        "%matplotlib inline\n",
        "import matplotlib.pyplot as plt\n",
        "from cirq.contrib.svg import SVGCircuit"
      ],
      "execution_count": 2,
      "outputs": []
    },
    {
      "cell_type": "markdown",
      "metadata": {
        "id": "OyyF3PeS0BNY",
        "colab_type": "text"
      },
      "source": [
        "# Task 1\n",
        "\n",
        "Initialize the state of 4 qubits $|\\psi_0\\rangle = |0000\\rangle$.\n",
        "\n",
        "The circuit will consist of a number of layers $L$, each composed of a even and odd block.\n",
        "\n",
        "The odd block implements the unitary:\n",
        "\n",
        "$$\n",
        "U_{2k+1} (\\theta_{2k+1}) = R_x(\\theta_{2k+1,1})\\otimes R_x(\\theta_{2k+1,2}) \\otimes R_x(\\theta_{2k+1,3}) \\otimes R_x(\\theta_{2k+1,4})\n",
        "$$\n",
        "\n",
        "Whereas the even block implements\n",
        "\n",
        "$$\n",
        "U_{2k} (\\theta_{2k}) = CZ(3,4)CZ(2,4)CZ(2,3)CZ(1,4)CZ(1,3)CZ(1,2)[R_z(\\theta_{2k,1})\\otimes R_z(\\theta_{2k,2}) \\otimes R_z(\\theta_{2k,3}) \\otimes R_z(\\theta_{2k,4})]\n",
        "$$\n",
        "\n",
        "Let's implement the blocks using Cirq:"
      ]
    },
    {
      "cell_type": "code",
      "metadata": {
        "id": "GOfz7TN22tgp",
        "colab_type": "code",
        "colab": {}
      },
      "source": [
        "# initialize our qubits:\n",
        "\n",
        "qubits = [cirq.GridQubit(x,y) for x in range(2) for y in range(2)]\n",
        "\n",
        "# initialize our params (theta)\n",
        "\n",
        "thetas = sympy.symbols('t1:9')"
      ],
      "execution_count": 7,
      "outputs": []
    },
    {
      "cell_type": "code",
      "metadata": {
        "id": "S1-sEmMIdiTu",
        "colab_type": "code",
        "colab": {
          "base_uri": "https://localhost:8080/",
          "height": 35
        },
        "outputId": "dee5d220-980b-4460-8532-0c97fbef2068"
      },
      "source": [
        "thetas[0:4]"
      ],
      "execution_count": 9,
      "outputs": [
        {
          "output_type": "execute_result",
          "data": {
            "text/plain": [
              "(t1, t2, t3, t4)"
            ]
          },
          "metadata": {
            "tags": []
          },
          "execution_count": 9
        }
      ]
    },
    {
      "cell_type": "code",
      "metadata": {
        "id": "UOLCYE3Y3XiA",
        "colab_type": "code",
        "colab": {
          "base_uri": "https://localhost:8080/",
          "height": 221
        },
        "outputId": "0fd6cc98-87bb-446f-ef96-1f7fbfaa1584"
      },
      "source": [
        "# Lets construct the odd block first\n",
        "# We will need the Rx gate as well as 4 parameters\n",
        "\n",
        "odd = cirq.Circuit()\n",
        "for (qubit, theta) in zip(qubits, thetas[0:4]):\n",
        "  odd.append(cirq.rx(theta).on(qubit))\n",
        "\n",
        "SVGCircuit(odd)"
      ],
      "execution_count": 10,
      "outputs": [
        {
          "output_type": "execute_result",
          "data": {
            "text/plain": [
              "<cirq.contrib.svg.svg.SVGCircuit at 0x7f6e587465f8>"
            ],
            "image/svg+xml": "<svg xmlns=\"http://www.w3.org/2000/svg\" width=\"180.274140625\" height=\"200.0\"><line x1=\"34.7588671875\" x2=\"150.274140625\" y1=\"25.0\" y2=\"25.0\" stroke=\"#1967d2\" stroke-width=\"1\" /><line x1=\"34.7588671875\" x2=\"150.274140625\" y1=\"75.0\" y2=\"75.0\" stroke=\"#1967d2\" stroke-width=\"1\" /><line x1=\"34.7588671875\" x2=\"150.274140625\" y1=\"125.0\" y2=\"125.0\" stroke=\"#1967d2\" stroke-width=\"1\" /><line x1=\"34.7588671875\" x2=\"150.274140625\" y1=\"175.0\" y2=\"175.0\" stroke=\"#1967d2\" stroke-width=\"1\" /><rect x=\"10.0\" y=\"5.0\" width=\"49.517734375\" height=\"40\" stroke=\"black\" fill=\"white\" stroke-width=\"0\" /><text x=\"34.7588671875\" y=\"25.0\" dominant-baseline=\"middle\" text-anchor=\"middle\" font-size=\"14px\">(0, 0): </text><rect x=\"10.0\" y=\"55.0\" width=\"49.517734375\" height=\"40\" stroke=\"black\" fill=\"white\" stroke-width=\"0\" /><text x=\"34.7588671875\" y=\"75.0\" dominant-baseline=\"middle\" text-anchor=\"middle\" font-size=\"14px\">(0, 1): </text><rect x=\"10.0\" y=\"105.0\" width=\"49.517734375\" height=\"40\" stroke=\"black\" fill=\"white\" stroke-width=\"0\" /><text x=\"34.7588671875\" y=\"125.0\" dominant-baseline=\"middle\" text-anchor=\"middle\" font-size=\"14px\">(1, 0): </text><rect x=\"10.0\" y=\"155.0\" width=\"49.517734375\" height=\"40\" stroke=\"black\" fill=\"white\" stroke-width=\"0\" /><text x=\"34.7588671875\" y=\"175.0\" dominant-baseline=\"middle\" text-anchor=\"middle\" font-size=\"14px\">(1, 1): </text><rect x=\"79.517734375\" y=\"5.0\" width=\"50.75640625\" height=\"40\" stroke=\"black\" fill=\"white\" stroke-width=\"1\" /><text x=\"104.8959375\" y=\"25.0\" dominant-baseline=\"middle\" text-anchor=\"middle\" font-size=\"14px\">Rx(t1)</text><rect x=\"79.517734375\" y=\"55.0\" width=\"50.75640625\" height=\"40\" stroke=\"black\" fill=\"white\" stroke-width=\"1\" /><text x=\"104.8959375\" y=\"75.0\" dominant-baseline=\"middle\" text-anchor=\"middle\" font-size=\"14px\">Rx(t2)</text><rect x=\"79.517734375\" y=\"105.0\" width=\"50.75640625\" height=\"40\" stroke=\"black\" fill=\"white\" stroke-width=\"1\" /><text x=\"104.8959375\" y=\"125.0\" dominant-baseline=\"middle\" text-anchor=\"middle\" font-size=\"14px\">Rx(t3)</text><rect x=\"79.517734375\" y=\"155.0\" width=\"50.75640625\" height=\"40\" stroke=\"black\" fill=\"white\" stroke-width=\"1\" /><text x=\"104.8959375\" y=\"175.0\" dominant-baseline=\"middle\" text-anchor=\"middle\" font-size=\"14px\">Rx(t4)</text></svg>"
          },
          "metadata": {
            "tags": []
          },
          "execution_count": 10
        }
      ]
    },
    {
      "cell_type": "code",
      "metadata": {
        "id": "itS43mKB4e_z",
        "colab_type": "code",
        "colab": {
          "base_uri": "https://localhost:8080/",
          "height": 261
        },
        "outputId": "67f10f75-74a6-4068-fc98-69672c5de4f0"
      },
      "source": [
        "# Now we construct the even block\n",
        "\n",
        "even = cirq.Circuit()\n",
        "\n",
        "for (qubit, theta) in zip(qubits, thetas[4:8]):\n",
        "  even.append(cirq.rz(theta).on(qubit))\n",
        "\n",
        "for i in range(len(qubits)-1):\n",
        "  for j in range(i+1, len(qubits)):\n",
        "    even.append(cirq.CZ(qubits[i], qubits[j]))\n",
        "\n",
        "\n",
        "SVGCircuit(even)"
      ],
      "execution_count": 13,
      "outputs": [
        {
          "output_type": "execute_result",
          "data": {
            "text/plain": [
              "<cirq.contrib.svg.svg.SVGCircuit at 0x7f6e4d2da2e8>"
            ],
            "image/svg+xml": "<svg xmlns=\"http://www.w3.org/2000/svg\" width=\"519.3376171875\" height=\"240.0\"><line x1=\"34.7588671875\" x2=\"489.3376171875\" y1=\"45.0\" y2=\"45.0\" stroke=\"#1967d2\" stroke-width=\"1\" /><line x1=\"34.7588671875\" x2=\"489.3376171875\" y1=\"95.0\" y2=\"95.0\" stroke=\"#1967d2\" stroke-width=\"1\" /><line x1=\"34.7588671875\" x2=\"489.3376171875\" y1=\"145.0\" y2=\"145.0\" stroke=\"#1967d2\" stroke-width=\"1\" /><line x1=\"34.7588671875\" x2=\"489.3376171875\" y1=\"195.0\" y2=\"195.0\" stroke=\"#1967d2\" stroke-width=\"1\" /><line x1=\"259.3376171875\" x2=\"349.3376171875\" y1=\"5.0\" y2=\"5.0\" stroke=\"black\" stroke-width=\"1\" /><line x1=\"259.3376171875\" x2=\"349.3376171875\" y1=\"235.0\" y2=\"235.0\" stroke=\"black\" stroke-width=\"1\" /><line x1=\"169.3376171875\" x2=\"169.3376171875\" y1=\"45.0\" y2=\"95.0\" stroke=\"black\" stroke-width=\"3\" /><line x1=\"229.3376171875\" x2=\"229.3376171875\" y1=\"45.0\" y2=\"145.0\" stroke=\"black\" stroke-width=\"3\" /><line x1=\"279.3376171875\" x2=\"279.3376171875\" y1=\"45.0\" y2=\"195.0\" stroke=\"black\" stroke-width=\"3\" /><line x1=\"319.3376171875\" x2=\"319.3376171875\" y1=\"95.0\" y2=\"145.0\" stroke=\"black\" stroke-width=\"3\" /><line x1=\"389.3376171875\" x2=\"389.3376171875\" y1=\"95.0\" y2=\"195.0\" stroke=\"black\" stroke-width=\"3\" /><line x1=\"449.3376171875\" x2=\"449.3376171875\" y1=\"145.0\" y2=\"195.0\" stroke=\"black\" stroke-width=\"3\" /><line x1=\"259.3376171875\" x2=\"259.3376171875\" y1=\"5.0\" y2=\"15.0\" stroke=\"black\" stroke-width=\"3\" /><line x1=\"349.3376171875\" x2=\"349.3376171875\" y1=\"5.0\" y2=\"15.0\" stroke=\"black\" stroke-width=\"3\" /><line x1=\"259.3376171875\" x2=\"259.3376171875\" y1=\"225.0\" y2=\"235.0\" stroke=\"black\" stroke-width=\"3\" /><line x1=\"349.3376171875\" x2=\"349.3376171875\" y1=\"225.0\" y2=\"235.0\" stroke=\"black\" stroke-width=\"3\" /><rect x=\"10.0\" y=\"25.0\" width=\"49.517734375\" height=\"40\" stroke=\"black\" fill=\"white\" stroke-width=\"0\" /><text x=\"34.7588671875\" y=\"45.0\" dominant-baseline=\"middle\" text-anchor=\"middle\" font-size=\"14px\">(0, 0): </text><rect x=\"10.0\" y=\"75.0\" width=\"49.517734375\" height=\"40\" stroke=\"black\" fill=\"white\" stroke-width=\"0\" /><text x=\"34.7588671875\" y=\"95.0\" dominant-baseline=\"middle\" text-anchor=\"middle\" font-size=\"14px\">(0, 1): </text><rect x=\"10.0\" y=\"125.0\" width=\"49.517734375\" height=\"40\" stroke=\"black\" fill=\"white\" stroke-width=\"0\" /><text x=\"34.7588671875\" y=\"145.0\" dominant-baseline=\"middle\" text-anchor=\"middle\" font-size=\"14px\">(1, 0): </text><rect x=\"10.0\" y=\"175.0\" width=\"49.517734375\" height=\"40\" stroke=\"black\" fill=\"white\" stroke-width=\"0\" /><text x=\"34.7588671875\" y=\"195.0\" dominant-baseline=\"middle\" text-anchor=\"middle\" font-size=\"14px\">(1, 1): </text><rect x=\"79.517734375\" y=\"25.0\" width=\"49.8198828125\" height=\"40\" stroke=\"black\" fill=\"white\" stroke-width=\"1\" /><text x=\"104.42767578125\" y=\"45.0\" dominant-baseline=\"middle\" text-anchor=\"middle\" font-size=\"14px\">Rz(t5)</text><rect x=\"79.517734375\" y=\"75.0\" width=\"49.8198828125\" height=\"40\" stroke=\"black\" fill=\"white\" stroke-width=\"1\" /><text x=\"104.42767578125\" y=\"95.0\" dominant-baseline=\"middle\" text-anchor=\"middle\" font-size=\"14px\">Rz(t6)</text><rect x=\"79.517734375\" y=\"125.0\" width=\"49.8198828125\" height=\"40\" stroke=\"black\" fill=\"white\" stroke-width=\"1\" /><text x=\"104.42767578125\" y=\"145.0\" dominant-baseline=\"middle\" text-anchor=\"middle\" font-size=\"14px\">Rz(t7)</text><rect x=\"79.517734375\" y=\"175.0\" width=\"49.8198828125\" height=\"40\" stroke=\"black\" fill=\"white\" stroke-width=\"1\" /><text x=\"104.42767578125\" y=\"195.0\" dominant-baseline=\"middle\" text-anchor=\"middle\" font-size=\"14px\">Rz(t8)</text><circle cx=\"169.3376171875\" cy=\"45.0\" r=\"10.0\" /><circle cx=\"169.3376171875\" cy=\"95.0\" r=\"10.0\" /><circle cx=\"229.3376171875\" cy=\"45.0\" r=\"10.0\" /><circle cx=\"229.3376171875\" cy=\"145.0\" r=\"10.0\" /><circle cx=\"279.3376171875\" cy=\"45.0\" r=\"10.0\" /><circle cx=\"279.3376171875\" cy=\"195.0\" r=\"10.0\" /><circle cx=\"319.3376171875\" cy=\"95.0\" r=\"10.0\" /><circle cx=\"319.3376171875\" cy=\"145.0\" r=\"10.0\" /><circle cx=\"389.3376171875\" cy=\"95.0\" r=\"10.0\" /><circle cx=\"389.3376171875\" cy=\"195.0\" r=\"10.0\" /><circle cx=\"449.3376171875\" cy=\"145.0\" r=\"10.0\" /><circle cx=\"449.3376171875\" cy=\"195.0\" r=\"10.0\" /></svg>"
          },
          "metadata": {
            "tags": []
          },
          "execution_count": 13
        }
      ]
    },
    {
      "cell_type": "code",
      "metadata": {
        "id": "GgvnHCNH5PrF",
        "colab_type": "code",
        "colab": {
          "base_uri": "https://localhost:8080/",
          "height": 261
        },
        "outputId": "b48e28f3-8e51-4f7f-94d7-df56f34ec4bb"
      },
      "source": [
        "# Now we can combine them into one layer\n",
        "\n",
        "one_layer = cirq.Circuit()\n",
        "one_layer.append([odd, even])\n",
        "\n",
        "SVGCircuit(one_layer)"
      ],
      "execution_count": 15,
      "outputs": [
        {
          "output_type": "execute_result",
          "data": {
            "text/plain": [
              "<cirq.contrib.svg.svg.SVGCircuit at 0x7f6e4d2a5630>"
            ],
            "image/svg+xml": "<svg xmlns=\"http://www.w3.org/2000/svg\" width=\"590.0940234375\" height=\"240.0\"><line x1=\"34.7588671875\" x2=\"560.0940234375\" y1=\"45.0\" y2=\"45.0\" stroke=\"#1967d2\" stroke-width=\"1\" /><line x1=\"34.7588671875\" x2=\"560.0940234375\" y1=\"95.0\" y2=\"95.0\" stroke=\"#1967d2\" stroke-width=\"1\" /><line x1=\"34.7588671875\" x2=\"560.0940234375\" y1=\"145.0\" y2=\"145.0\" stroke=\"#1967d2\" stroke-width=\"1\" /><line x1=\"34.7588671875\" x2=\"560.0940234375\" y1=\"195.0\" y2=\"195.0\" stroke=\"#1967d2\" stroke-width=\"1\" /><line x1=\"330.0940234375\" x2=\"420.0940234375\" y1=\"5.0\" y2=\"5.0\" stroke=\"black\" stroke-width=\"1\" /><line x1=\"330.0940234375\" x2=\"420.0940234375\" y1=\"235.0\" y2=\"235.0\" stroke=\"black\" stroke-width=\"1\" /><line x1=\"240.0940234375\" x2=\"240.0940234375\" y1=\"45.0\" y2=\"95.0\" stroke=\"black\" stroke-width=\"3\" /><line x1=\"300.0940234375\" x2=\"300.0940234375\" y1=\"45.0\" y2=\"145.0\" stroke=\"black\" stroke-width=\"3\" /><line x1=\"350.0940234375\" x2=\"350.0940234375\" y1=\"45.0\" y2=\"195.0\" stroke=\"black\" stroke-width=\"3\" /><line x1=\"390.0940234375\" x2=\"390.0940234375\" y1=\"95.0\" y2=\"145.0\" stroke=\"black\" stroke-width=\"3\" /><line x1=\"460.0940234375\" x2=\"460.0940234375\" y1=\"95.0\" y2=\"195.0\" stroke=\"black\" stroke-width=\"3\" /><line x1=\"520.0940234375\" x2=\"520.0940234375\" y1=\"145.0\" y2=\"195.0\" stroke=\"black\" stroke-width=\"3\" /><line x1=\"330.0940234375\" x2=\"330.0940234375\" y1=\"5.0\" y2=\"15.0\" stroke=\"black\" stroke-width=\"3\" /><line x1=\"420.0940234375\" x2=\"420.0940234375\" y1=\"5.0\" y2=\"15.0\" stroke=\"black\" stroke-width=\"3\" /><line x1=\"330.0940234375\" x2=\"330.0940234375\" y1=\"225.0\" y2=\"235.0\" stroke=\"black\" stroke-width=\"3\" /><line x1=\"420.0940234375\" x2=\"420.0940234375\" y1=\"225.0\" y2=\"235.0\" stroke=\"black\" stroke-width=\"3\" /><rect x=\"10.0\" y=\"25.0\" width=\"49.517734375\" height=\"40\" stroke=\"black\" fill=\"white\" stroke-width=\"0\" /><text x=\"34.7588671875\" y=\"45.0\" dominant-baseline=\"middle\" text-anchor=\"middle\" font-size=\"14px\">(0, 0): </text><rect x=\"10.0\" y=\"75.0\" width=\"49.517734375\" height=\"40\" stroke=\"black\" fill=\"white\" stroke-width=\"0\" /><text x=\"34.7588671875\" y=\"95.0\" dominant-baseline=\"middle\" text-anchor=\"middle\" font-size=\"14px\">(0, 1): </text><rect x=\"10.0\" y=\"125.0\" width=\"49.517734375\" height=\"40\" stroke=\"black\" fill=\"white\" stroke-width=\"0\" /><text x=\"34.7588671875\" y=\"145.0\" dominant-baseline=\"middle\" text-anchor=\"middle\" font-size=\"14px\">(1, 0): </text><rect x=\"10.0\" y=\"175.0\" width=\"49.517734375\" height=\"40\" stroke=\"black\" fill=\"white\" stroke-width=\"0\" /><text x=\"34.7588671875\" y=\"195.0\" dominant-baseline=\"middle\" text-anchor=\"middle\" font-size=\"14px\">(1, 1): </text><rect x=\"79.517734375\" y=\"25.0\" width=\"50.75640625\" height=\"40\" stroke=\"black\" fill=\"white\" stroke-width=\"1\" /><text x=\"104.8959375\" y=\"45.0\" dominant-baseline=\"middle\" text-anchor=\"middle\" font-size=\"14px\">Rx(t1)</text><rect x=\"79.517734375\" y=\"75.0\" width=\"50.75640625\" height=\"40\" stroke=\"black\" fill=\"white\" stroke-width=\"1\" /><text x=\"104.8959375\" y=\"95.0\" dominant-baseline=\"middle\" text-anchor=\"middle\" font-size=\"14px\">Rx(t2)</text><rect x=\"79.517734375\" y=\"125.0\" width=\"50.75640625\" height=\"40\" stroke=\"black\" fill=\"white\" stroke-width=\"1\" /><text x=\"104.8959375\" y=\"145.0\" dominant-baseline=\"middle\" text-anchor=\"middle\" font-size=\"14px\">Rx(t3)</text><rect x=\"79.517734375\" y=\"175.0\" width=\"50.75640625\" height=\"40\" stroke=\"black\" fill=\"white\" stroke-width=\"1\" /><text x=\"104.8959375\" y=\"195.0\" dominant-baseline=\"middle\" text-anchor=\"middle\" font-size=\"14px\">Rx(t4)</text><rect x=\"150.274140625\" y=\"25.0\" width=\"49.8198828125\" height=\"40\" stroke=\"black\" fill=\"white\" stroke-width=\"1\" /><text x=\"175.18408203125\" y=\"45.0\" dominant-baseline=\"middle\" text-anchor=\"middle\" font-size=\"14px\">Rz(t5)</text><rect x=\"150.274140625\" y=\"75.0\" width=\"49.8198828125\" height=\"40\" stroke=\"black\" fill=\"white\" stroke-width=\"1\" /><text x=\"175.18408203125\" y=\"95.0\" dominant-baseline=\"middle\" text-anchor=\"middle\" font-size=\"14px\">Rz(t6)</text><rect x=\"150.274140625\" y=\"125.0\" width=\"49.8198828125\" height=\"40\" stroke=\"black\" fill=\"white\" stroke-width=\"1\" /><text x=\"175.18408203125\" y=\"145.0\" dominant-baseline=\"middle\" text-anchor=\"middle\" font-size=\"14px\">Rz(t7)</text><rect x=\"150.274140625\" y=\"175.0\" width=\"49.8198828125\" height=\"40\" stroke=\"black\" fill=\"white\" stroke-width=\"1\" /><text x=\"175.18408203125\" y=\"195.0\" dominant-baseline=\"middle\" text-anchor=\"middle\" font-size=\"14px\">Rz(t8)</text><circle cx=\"240.0940234375\" cy=\"45.0\" r=\"10.0\" /><circle cx=\"240.0940234375\" cy=\"95.0\" r=\"10.0\" /><circle cx=\"300.0940234375\" cy=\"45.0\" r=\"10.0\" /><circle cx=\"300.0940234375\" cy=\"145.0\" r=\"10.0\" /><circle cx=\"350.0940234375\" cy=\"45.0\" r=\"10.0\" /><circle cx=\"350.0940234375\" cy=\"195.0\" r=\"10.0\" /><circle cx=\"390.0940234375\" cy=\"95.0\" r=\"10.0\" /><circle cx=\"390.0940234375\" cy=\"145.0\" r=\"10.0\" /><circle cx=\"460.0940234375\" cy=\"95.0\" r=\"10.0\" /><circle cx=\"460.0940234375\" cy=\"195.0\" r=\"10.0\" /><circle cx=\"520.0940234375\" cy=\"145.0\" r=\"10.0\" /><circle cx=\"520.0940234375\" cy=\"195.0\" r=\"10.0\" /></svg>"
          },
          "metadata": {
            "tags": []
          },
          "execution_count": 15
        }
      ]
    },
    {
      "cell_type": "code",
      "metadata": {
        "id": "XUo2d2Tn5kZx",
        "colab_type": "code",
        "colab": {
          "base_uri": "https://localhost:8080/",
          "height": 92
        },
        "outputId": "502ba1bc-0e08-452a-926d-5f0f27ee0015"
      },
      "source": [
        "# Now we can promote the layer to a tensor\n",
        "\n",
        "one_layer_tensor = tfq.convert_to_tensor([one_layer])\n",
        "one_layer_tensor"
      ],
      "execution_count": 23,
      "outputs": [
        {
          "output_type": "execute_result",
          "data": {
            "text/plain": [
              "<tf.Tensor: shape=(1,), dtype=string, numpy=\n",
              "array([b'\\n\\x0e\\n\\x0ctfq_gate_set\\x12\\x89\\n\\x08\\x01\\x12\\xd8\\x02\\nT\\n\\x04\\n\\x02XP\\x12\\x1a\\n\\x0fexponent_scalar\\x12\\x07\\n\\x05\\r\\x83\\xf9\\xa2>\\x12\\x10\\n\\x08exponent\\x12\\x04\\x12\\x02t1\\x12\\x17\\n\\x0cglobal_shift\\x12\\x07\\n\\x05\\r\\x00\\x00\\x00\\xbf\\x1a\\x05\\x12\\x030_0\\nT\\n\\x04\\n\\x02XP\\x12\\x1a\\n\\x0fexponent_scalar\\x12\\x07\\n\\x05\\r\\x83\\xf9\\xa2>\\x12\\x10\\n\\x08exponent\\x12\\x04\\x12\\x02t2\\x12\\x17\\n\\x0cglobal_shift\\x12\\x07\\n\\x05\\r\\x00\\x00\\x00\\xbf\\x1a\\x05\\x12\\x030_1\\nT\\n\\x04\\n\\x02XP\\x12\\x1a\\n\\x0fexponent_scalar\\x12\\x07\\n\\x05\\r\\x83\\xf9\\xa2>\\x12\\x10\\n\\x08exponent\\x12\\x04\\x12\\x02t3\\x12\\x17\\n\\x0cglobal_shift\\x12\\x07\\n\\x05\\r\\x00\\x00\\x00\\xbf\\x1a\\x05\\x12\\x031_0\\nT\\n\\x04\\n\\x02XP\\x12\\x10\\n\\x08exponent\\x12\\x04\\x12\\x02t4\\x12\\x17\\n\\x0cglobal_shift\\x12\\x07\\n\\x05\\r\\x00\\x00\\x00\\xbf\\x12\\x1a\\n\\x0fexponent_scalar\\x12\\x07\\n\\x05\\r\\x83\\xf9\\xa2>\\x1a\\x05\\x12\\x031_1\\x12\\xd8\\x02\\nT\\n\\x04\\n\\x02ZP\\x12\\x1a\\n\\x0fexponent_scalar\\x12\\x07\\n\\x05\\r\\x83\\xf9\\xa2>\\x12\\x10\\n\\x08exponent\\x12\\x04\\x12\\x02t5\\x12\\x17\\n\\x0cglobal_shift\\x12\\x07\\n\\x05\\r\\x00\\x00\\x00\\xbf\\x1a\\x05\\x12\\x030_0\\nT\\n\\x04\\n\\x02ZP\\x12\\x1a\\n\\x0fexponent_scalar\\x12\\x07\\n\\x05\\r\\x83\\xf9\\xa2>\\x12\\x10\\n\\x08exponent\\x12\\x04\\x12\\x02t6\\x12\\x17\\n\\x0cglobal_shift\\x12\\x07\\n\\x05\\r\\x00\\x00\\x00\\xbf\\x1a\\x05\\x12\\x030_1\\nT\\n\\x04\\n\\x02ZP\\x12\\x10\\n\\x08exponent\\x12\\x04\\x12\\x02t7\\x12\\x17\\n\\x0cglobal_shift\\x12\\x07\\n\\x05\\r\\x00\\x00\\x00\\xbf\\x12\\x1a\\n\\x0fexponent_scalar\\x12\\x07\\n\\x05\\r\\x83\\xf9\\xa2>\\x1a\\x05\\x12\\x031_0\\nT\\n\\x04\\n\\x02ZP\\x12\\x1a\\n\\x0fexponent_scalar\\x12\\x07\\n\\x05\\r\\x83\\xf9\\xa2>\\x12\\x10\\n\\x08exponent\\x12\\x04\\x12\\x02t8\\x12\\x17\\n\\x0cglobal_shift\\x12\\x07\\n\\x05\\r\\x00\\x00\\x00\\xbf\\x1a\\x05\\x12\\x031_1\\x12a\\n_\\n\\x05\\n\\x03CZP\\x12\\x13\\n\\x08exponent\\x12\\x07\\n\\x05\\r\\x00\\x00\\x80?\\x12\\x17\\n\\x0cglobal_shift\\x12\\x07\\n\\x05\\r\\x00\\x00\\x00\\x00\\x12\\x1a\\n\\x0fexponent_scalar\\x12\\x07\\n\\x05\\r\\x00\\x00\\x80?\\x1a\\x05\\x12\\x030_0\\x1a\\x05\\x12\\x030_1\\x12a\\n_\\n\\x05\\n\\x03CZP\\x12\\x1a\\n\\x0fexponent_scalar\\x12\\x07\\n\\x05\\r\\x00\\x00\\x80?\\x12\\x13\\n\\x08exponent\\x12\\x07\\n\\x05\\r\\x00\\x00\\x80?\\x12\\x17\\n\\x0cglobal_shift\\x12\\x07\\n\\x05\\r\\x00\\x00\\x00\\x00\\x1a\\x05\\x12\\x030_0\\x1a\\x05\\x12\\x031_0\\x12\\xc2\\x01\\n_\\n\\x05\\n\\x03CZP\\x12\\x17\\n\\x0cglobal_shift\\x12\\x07\\n\\x05\\r\\x00\\x00\\x00\\x00\\x12\\x1a\\n\\x0fexponent_scalar\\x12\\x07\\n\\x05\\r\\x00\\x00\\x80?\\x12\\x13\\n\\x08exponent\\x12\\x07\\n\\x05\\r\\x00\\x00\\x80?\\x1a\\x05\\x12\\x030_0\\x1a\\x05\\x12\\x031_1\\n_\\n\\x05\\n\\x03CZP\\x12\\x13\\n\\x08exponent\\x12\\x07\\n\\x05\\r\\x00\\x00\\x80?\\x12\\x17\\n\\x0cglobal_shift\\x12\\x07\\n\\x05\\r\\x00\\x00\\x00\\x00\\x12\\x1a\\n\\x0fexponent_scalar\\x12\\x07\\n\\x05\\r\\x00\\x00\\x80?\\x1a\\x05\\x12\\x030_1\\x1a\\x05\\x12\\x031_0\\x12a\\n_\\n\\x05\\n\\x03CZP\\x12\\x13\\n\\x08exponent\\x12\\x07\\n\\x05\\r\\x00\\x00\\x80?\\x12\\x17\\n\\x0cglobal_shift\\x12\\x07\\n\\x05\\r\\x00\\x00\\x00\\x00\\x12\\x1a\\n\\x0fexponent_scalar\\x12\\x07\\n\\x05\\r\\x00\\x00\\x80?\\x1a\\x05\\x12\\x030_1\\x1a\\x05\\x12\\x031_1\\x12a\\n_\\n\\x05\\n\\x03CZP\\x12\\x13\\n\\x08exponent\\x12\\x07\\n\\x05\\r\\x00\\x00\\x80?\\x12\\x17\\n\\x0cglobal_shift\\x12\\x07\\n\\x05\\r\\x00\\x00\\x00\\x00\\x12\\x1a\\n\\x0fexponent_scalar\\x12\\x07\\n\\x05\\r\\x00\\x00\\x80?\\x1a\\x05\\x12\\x031_0\\x1a\\x05\\x12\\x031_1'],\n",
              "      dtype=object)>"
            ]
          },
          "metadata": {
            "tags": []
          },
          "execution_count": 23
        }
      ]
    },
    {
      "cell_type": "code",
      "metadata": {
        "id": "Wcf3JDevhzCb",
        "colab_type": "code",
        "colab": {
          "base_uri": "https://localhost:8080/",
          "height": 92
        },
        "outputId": "81409169-437f-4c8d-c929-b41d624a1210"
      },
      "source": [
        "# Or try to convert it to a Keras layer\n",
        "\n",
        "add = tfq.layers.AddCircuit()\n",
        "output = add(one_layer, append=one_layer)\n",
        "output"
      ],
      "execution_count": 22,
      "outputs": [
        {
          "output_type": "execute_result",
          "data": {
            "text/plain": [
              "<tf.Tensor: shape=(1,), dtype=string, numpy=\n",
              "array([b'\\n\\x0e\\n\\x0ctfq_gate_set\\x12\\x90\\x14\\x08\\x01\\x12\\xd8\\x02\\nT\\n\\x04\\n\\x02XP\\x12\\x1a\\n\\x0fexponent_scalar\\x12\\x07\\n\\x05\\r\\x83\\xf9\\xa2>\\x12\\x10\\n\\x08exponent\\x12\\x04\\x12\\x02t1\\x12\\x17\\n\\x0cglobal_shift\\x12\\x07\\n\\x05\\r\\x00\\x00\\x00\\xbf\\x1a\\x05\\x12\\x030_0\\nT\\n\\x04\\n\\x02XP\\x12\\x17\\n\\x0cglobal_shift\\x12\\x07\\n\\x05\\r\\x00\\x00\\x00\\xbf\\x12\\x1a\\n\\x0fexponent_scalar\\x12\\x07\\n\\x05\\r\\x83\\xf9\\xa2>\\x12\\x10\\n\\x08exponent\\x12\\x04\\x12\\x02t2\\x1a\\x05\\x12\\x030_1\\nT\\n\\x04\\n\\x02XP\\x12\\x10\\n\\x08exponent\\x12\\x04\\x12\\x02t3\\x12\\x17\\n\\x0cglobal_shift\\x12\\x07\\n\\x05\\r\\x00\\x00\\x00\\xbf\\x12\\x1a\\n\\x0fexponent_scalar\\x12\\x07\\n\\x05\\r\\x83\\xf9\\xa2>\\x1a\\x05\\x12\\x031_0\\nT\\n\\x04\\n\\x02XP\\x12\\x10\\n\\x08exponent\\x12\\x04\\x12\\x02t4\\x12\\x17\\n\\x0cglobal_shift\\x12\\x07\\n\\x05\\r\\x00\\x00\\x00\\xbf\\x12\\x1a\\n\\x0fexponent_scalar\\x12\\x07\\n\\x05\\r\\x83\\xf9\\xa2>\\x1a\\x05\\x12\\x031_1\\x12\\xd8\\x02\\nT\\n\\x04\\n\\x02ZP\\x12\\x10\\n\\x08exponent\\x12\\x04\\x12\\x02t5\\x12\\x17\\n\\x0cglobal_shift\\x12\\x07\\n\\x05\\r\\x00\\x00\\x00\\xbf\\x12\\x1a\\n\\x0fexponent_scalar\\x12\\x07\\n\\x05\\r\\x83\\xf9\\xa2>\\x1a\\x05\\x12\\x030_0\\nT\\n\\x04\\n\\x02ZP\\x12\\x10\\n\\x08exponent\\x12\\x04\\x12\\x02t6\\x12\\x17\\n\\x0cglobal_shift\\x12\\x07\\n\\x05\\r\\x00\\x00\\x00\\xbf\\x12\\x1a\\n\\x0fexponent_scalar\\x12\\x07\\n\\x05\\r\\x83\\xf9\\xa2>\\x1a\\x05\\x12\\x030_1\\nT\\n\\x04\\n\\x02ZP\\x12\\x1a\\n\\x0fexponent_scalar\\x12\\x07\\n\\x05\\r\\x83\\xf9\\xa2>\\x12\\x10\\n\\x08exponent\\x12\\x04\\x12\\x02t7\\x12\\x17\\n\\x0cglobal_shift\\x12\\x07\\n\\x05\\r\\x00\\x00\\x00\\xbf\\x1a\\x05\\x12\\x031_0\\nT\\n\\x04\\n\\x02ZP\\x12\\x10\\n\\x08exponent\\x12\\x04\\x12\\x02t8\\x12\\x17\\n\\x0cglobal_shift\\x12\\x07\\n\\x05\\r\\x00\\x00\\x00\\xbf\\x12\\x1a\\n\\x0fexponent_scalar\\x12\\x07\\n\\x05\\r\\x83\\xf9\\xa2>\\x1a\\x05\\x12\\x031_1\\x12a\\n_\\n\\x05\\n\\x03CZP\\x12\\x1a\\n\\x0fexponent_scalar\\x12\\x07\\n\\x05\\r\\x00\\x00\\x80?\\x12\\x13\\n\\x08exponent\\x12\\x07\\n\\x05\\r\\x00\\x00\\x80?\\x12\\x17\\n\\x0cglobal_shift\\x12\\x07\\n\\x05\\r\\x00\\x00\\x00\\x00\\x1a\\x05\\x12\\x030_0\\x1a\\x05\\x12\\x030_1\\x12a\\n_\\n\\x05\\n\\x03CZP\\x12\\x13\\n\\x08exponent\\x12\\x07\\n\\x05\\r\\x00\\x00\\x80?\\x12\\x17\\n\\x0cglobal_shift\\x12\\x07\\n\\x05\\r\\x00\\x00\\x00\\x00\\x12\\x1a\\n\\x0fexponent_scalar\\x12\\x07\\n\\x05\\r\\x00\\x00\\x80?\\x1a\\x05\\x12\\x030_0\\x1a\\x05\\x12\\x031_0\\x12\\xc2\\x01\\n_\\n\\x05\\n\\x03CZP\\x12\\x1a\\n\\x0fexponent_scalar\\x12\\x07\\n\\x05\\r\\x00\\x00\\x80?\\x12\\x13\\n\\x08exponent\\x12\\x07\\n\\x05\\r\\x00\\x00\\x80?\\x12\\x17\\n\\x0cglobal_shift\\x12\\x07\\n\\x05\\r\\x00\\x00\\x00\\x00\\x1a\\x05\\x12\\x030_0\\x1a\\x05\\x12\\x031_1\\n_\\n\\x05\\n\\x03CZP\\x12\\x13\\n\\x08exponent\\x12\\x07\\n\\x05\\r\\x00\\x00\\x80?\\x12\\x17\\n\\x0cglobal_shift\\x12\\x07\\n\\x05\\r\\x00\\x00\\x00\\x00\\x12\\x1a\\n\\x0fexponent_scalar\\x12\\x07\\n\\x05\\r\\x00\\x00\\x80?\\x1a\\x05\\x12\\x030_1\\x1a\\x05\\x12\\x031_0\\x12a\\n_\\n\\x05\\n\\x03CZP\\x12\\x13\\n\\x08exponent\\x12\\x07\\n\\x05\\r\\x00\\x00\\x80?\\x12\\x17\\n\\x0cglobal_shift\\x12\\x07\\n\\x05\\r\\x00\\x00\\x00\\x00\\x12\\x1a\\n\\x0fexponent_scalar\\x12\\x07\\n\\x05\\r\\x00\\x00\\x80?\\x1a\\x05\\x12\\x030_1\\x1a\\x05\\x12\\x031_1\\x12a\\n_\\n\\x05\\n\\x03CZP\\x12\\x1a\\n\\x0fexponent_scalar\\x12\\x07\\n\\x05\\r\\x00\\x00\\x80?\\x12\\x13\\n\\x08exponent\\x12\\x07\\n\\x05\\r\\x00\\x00\\x80?\\x12\\x17\\n\\x0cglobal_shift\\x12\\x07\\n\\x05\\r\\x00\\x00\\x00\\x00\\x1a\\x05\\x12\\x031_0\\x1a\\x05\\x12\\x031_1\\x12\\xd8\\x02\\nT\\n\\x04\\n\\x02XP\\x12\\x1a\\n\\x0fexponent_scalar\\x12\\x07\\n\\x05\\r\\x83\\xf9\\xa2>\\x12\\x10\\n\\x08exponent\\x12\\x04\\x12\\x02t1\\x12\\x17\\n\\x0cglobal_shift\\x12\\x07\\n\\x05\\r\\x00\\x00\\x00\\xbf\\x1a\\x05\\x12\\x030_0\\nT\\n\\x04\\n\\x02XP\\x12\\x10\\n\\x08exponent\\x12\\x04\\x12\\x02t2\\x12\\x17\\n\\x0cglobal_shift\\x12\\x07\\n\\x05\\r\\x00\\x00\\x00\\xbf\\x12\\x1a\\n\\x0fexponent_scalar\\x12\\x07\\n\\x05\\r\\x83\\xf9\\xa2>\\x1a\\x05\\x12\\x030_1\\nT\\n\\x04\\n\\x02XP\\x12\\x10\\n\\x08exponent\\x12\\x04\\x12\\x02t3\\x12\\x17\\n\\x0cglobal_shift\\x12\\x07\\n\\x05\\r\\x00\\x00\\x00\\xbf\\x12\\x1a\\n\\x0fexponent_scalar\\x12\\x07\\n\\x05\\r\\x83\\xf9\\xa2>\\x1a\\x05\\x12\\x031_0\\nT\\n\\x04\\n\\x02XP\\x12\\x1a\\n\\x0fexponent_scalar\\x12\\x07\\n\\x05\\r\\x83\\xf9\\xa2>\\x12\\x10\\n\\x08exponent\\x12\\x04\\x12\\x02t4\\x12\\x17\\n\\x0cglobal_shift\\x12\\x07\\n\\x05\\r\\x00\\x00\\x00\\xbf\\x1a\\x05\\x12\\x031_1\\x12\\xd8\\x02\\nT\\n\\x04\\n\\x02ZP\\x12\\x10\\n\\x08exponent\\x12\\x04\\x12\\x02t5\\x12\\x17\\n\\x0cglobal_shift\\x12\\x07\\n\\x05\\r\\x00\\x00\\x00\\xbf\\x12\\x1a\\n\\x0fexponent_scalar\\x12\\x07\\n\\x05\\r\\x83\\xf9\\xa2>\\x1a\\x05\\x12\\x030_0\\nT\\n\\x04\\n\\x02ZP\\x12\\x1a\\n\\x0fexponent_scalar\\x12\\x07\\n\\x05\\r\\x83\\xf9\\xa2>\\x12\\x10\\n\\x08exponent\\x12\\x04\\x12\\x02t6\\x12\\x17\\n\\x0cglobal_shift\\x12\\x07\\n\\x05\\r\\x00\\x00\\x00\\xbf\\x1a\\x05\\x12\\x030_1\\nT\\n\\x04\\n\\x02ZP\\x12\\x10\\n\\x08exponent\\x12\\x04\\x12\\x02t7\\x12\\x17\\n\\x0cglobal_shift\\x12\\x07\\n\\x05\\r\\x00\\x00\\x00\\xbf\\x12\\x1a\\n\\x0fexponent_scalar\\x12\\x07\\n\\x05\\r\\x83\\xf9\\xa2>\\x1a\\x05\\x12\\x031_0\\nT\\n\\x04\\n\\x02ZP\\x12\\x10\\n\\x08exponent\\x12\\x04\\x12\\x02t8\\x12\\x17\\n\\x0cglobal_shift\\x12\\x07\\n\\x05\\r\\x00\\x00\\x00\\xbf\\x12\\x1a\\n\\x0fexponent_scalar\\x12\\x07\\n\\x05\\r\\x83\\xf9\\xa2>\\x1a\\x05\\x12\\x031_1\\x12a\\n_\\n\\x05\\n\\x03CZP\\x12\\x13\\n\\x08exponent\\x12\\x07\\n\\x05\\r\\x00\\x00\\x80?\\x12\\x17\\n\\x0cglobal_shift\\x12\\x07\\n\\x05\\r\\x00\\x00\\x00\\x00\\x12\\x1a\\n\\x0fexponent_scalar\\x12\\x07\\n\\x05\\r\\x00\\x00\\x80?\\x1a\\x05\\x12\\x030_0\\x1a\\x05\\x12\\x030_1\\x12a\\n_\\n\\x05\\n\\x03CZP\\x12\\x13\\n\\x08exponent\\x12\\x07\\n\\x05\\r\\x00\\x00\\x80?\\x12\\x17\\n\\x0cglobal_shift\\x12\\x07\\n\\x05\\r\\x00\\x00\\x00\\x00\\x12\\x1a\\n\\x0fexponent_scalar\\x12\\x07\\n\\x05\\r\\x00\\x00\\x80?\\x1a\\x05\\x12\\x030_0\\x1a\\x05\\x12\\x031_0\\x12\\xc2\\x01\\n_\\n\\x05\\n\\x03CZP\\x12\\x1a\\n\\x0fexponent_scalar\\x12\\x07\\n\\x05\\r\\x00\\x00\\x80?\\x12\\x13\\n\\x08exponent\\x12\\x07\\n\\x05\\r\\x00\\x00\\x80?\\x12\\x17\\n\\x0cglobal_shift\\x12\\x07\\n\\x05\\r\\x00\\x00\\x00\\x00\\x1a\\x05\\x12\\x030_0\\x1a\\x05\\x12\\x031_1\\n_\\n\\x05\\n\\x03CZP\\x12\\x17\\n\\x0cglobal_shift\\x12\\x07\\n\\x05\\r\\x00\\x00\\x00\\x00\\x12\\x1a\\n\\x0fexponent_scalar\\x12\\x07\\n\\x05\\r\\x00\\x00\\x80?\\x12\\x13\\n\\x08exponent\\x12\\x07\\n\\x05\\r\\x00\\x00\\x80?\\x1a\\x05\\x12\\x030_1\\x1a\\x05\\x12\\x031_0\\x12a\\n_\\n\\x05\\n\\x03CZP\\x12\\x1a\\n\\x0fexponent_scalar\\x12\\x07\\n\\x05\\r\\x00\\x00\\x80?\\x12\\x13\\n\\x08exponent\\x12\\x07\\n\\x05\\r\\x00\\x00\\x80?\\x12\\x17\\n\\x0cglobal_shift\\x12\\x07\\n\\x05\\r\\x00\\x00\\x00\\x00\\x1a\\x05\\x12\\x030_1\\x1a\\x05\\x12\\x031_1\\x12a\\n_\\n\\x05\\n\\x03CZP\\x12\\x13\\n\\x08exponent\\x12\\x07\\n\\x05\\r\\x00\\x00\\x80?\\x12\\x17\\n\\x0cglobal_shift\\x12\\x07\\n\\x05\\r\\x00\\x00\\x00\\x00\\x12\\x1a\\n\\x0fexponent_scalar\\x12\\x07\\n\\x05\\r\\x00\\x00\\x80?\\x1a\\x05\\x12\\x031_0\\x1a\\x05\\x12\\x031_1'],\n",
              "      dtype=object)>"
            ]
          },
          "metadata": {
            "tags": []
          },
          "execution_count": 22
        }
      ]
    },
    {
      "cell_type": "markdown",
      "metadata": {
        "id": "dY_v_rxX76tt",
        "colab_type": "text"
      },
      "source": [
        "The figure of interest at this stage is the final state, $|\\psi(\\vec{\\theta})\\rangle$, and the quantity:\n",
        "\n",
        "$$\n",
        "\\delta = || |\\psi(\\vec{\\theta})\\rangle - |\\phi\\rangle ||\n",
        "= \\sum_{i,j,k,l}|c_{ijkl}|^2\n",
        "$$\n",
        "\n",
        "$$\n",
        "c_{ijkl} = \\langle ijkl|\\psi(\\vec{\\theta})\\rangle - \\langle ijkl|\\phi\\rangle\n",
        "$$\n",
        "\n",
        "Where $|\\phi\\rangle$ is a randomly chosen state"
      ]
    },
    {
      "cell_type": "code",
      "metadata": {
        "id": "VUuTdyzGirqE",
        "colab_type": "code",
        "colab": {}
      },
      "source": [
        "# Let's try adding a State layer to our model"
      ],
      "execution_count": null,
      "outputs": []
    },
    {
      "cell_type": "code",
      "metadata": {
        "id": "BqOkvL_28WzJ",
        "colab_type": "code",
        "colab": {
          "base_uri": "https://localhost:8080/",
          "height": 164
        },
        "outputId": "4974b4d3-f534-46c8-b6c6-dccd9059241e"
      },
      "source": [
        "# Calculate the final state\n",
        "# For the current example, we need to pick values for our parameters\n",
        "\n",
        "params = {t1: 0, t2: 0.5, t3: 0.5, t4: 0.3, t5: 0.2, t6: 0.7, t7: 0.1, t8: 0}\n",
        "\n",
        "resolver = cirq.ParamResolver(params)\n",
        "final_state = cirq.Simulator().simulate(one_layer, resolver).final_state\n",
        "final_state\n"
      ],
      "execution_count": null,
      "outputs": [
        {
          "output_type": "execute_result",
          "data": {
            "text/plain": [
              "array([ 0.8146157 -0.4450266j , -0.06725919-0.12311712j,\n",
              "       -0.09230035-0.21831085j,  0.03299445-0.01394983j,\n",
              "        0.0470888 -0.2322964j ,  0.03510817+0.00711678j,\n",
              "        0.05781832+0.0178853j ,  0.0027031 -0.00873838j,\n",
              "        0.        +0.j        , -0.        +0.j        ,\n",
              "       -0.        +0.j        ,  0.        +0.j        ,\n",
              "       -0.        +0.j        ,  0.        +0.j        ,\n",
              "        0.        +0.j        ,  0.        +0.j        ], dtype=complex64)"
            ]
          },
          "metadata": {
            "tags": []
          },
          "execution_count": 24
        }
      ]
    },
    {
      "cell_type": "code",
      "metadata": {
        "id": "0s15x2Es-N_S",
        "colab_type": "code",
        "colab": {
          "base_uri": "https://localhost:8080/",
          "height": 35
        },
        "outputId": "9d1fb043-9899-4246-984b-ddf521348c88"
      },
      "source": [
        "# Calculate the delta quantity\n",
        "# We need a randomly generated 4 qubit state\n",
        "\n",
        "phi = cirq.testing.random_superposition(2**4)\n",
        "\n",
        "delta = np.linalg.norm(final_state - phi)\n",
        "\n",
        "delta"
      ],
      "execution_count": null,
      "outputs": [
        {
          "output_type": "execute_result",
          "data": {
            "text/plain": [
              "1.3362383456818439"
            ]
          },
          "metadata": {
            "tags": []
          },
          "execution_count": 34
        }
      ]
    },
    {
      "cell_type": "code",
      "metadata": {
        "id": "5yHJwq4FBPl0",
        "colab_type": "code",
        "colab": {}
      },
      "source": [
        ""
      ],
      "execution_count": null,
      "outputs": []
    },
    {
      "cell_type": "markdown",
      "metadata": {
        "id": "AA1Tyz4BB4WR",
        "colab_type": "text"
      },
      "source": [
        "Now that we can calculate the $\\delta$ quantity, we want to be able to minimize it over the parameters $\\vec{\\theta}$, to obtain a further quantity $\\epsilon = \\min_{\\vec{\\theta}} \\delta$"
      ]
    },
    {
      "cell_type": "code",
      "metadata": {
        "id": "6rAwn_arCR7t",
        "colab_type": "code",
        "colab": {}
      },
      "source": [
        ""
      ],
      "execution_count": null,
      "outputs": []
    }
  ]
}