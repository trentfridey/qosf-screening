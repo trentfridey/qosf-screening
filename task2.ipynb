{
  "nbformat": 4,
  "nbformat_minor": 0,
  "metadata": {
    "colab": {
      "name": "Untitled4.ipynb",
      "provenance": [],
      "authorship_tag": "ABX9TyOHW/zyEGABLMYvLyEf7Yru",
      "include_colab_link": true
    },
    "kernelspec": {
      "name": "python3",
      "display_name": "Python 3"
    }
  },
  "cells": [
    {
      "cell_type": "markdown",
      "metadata": {
        "id": "view-in-github",
        "colab_type": "text"
      },
      "source": [
        "<a href=\"https://colab.research.google.com/github/trentfridey/qosf-screening/blob/master/task2.ipynb\" target=\"_parent\"><img src=\"https://colab.research.google.com/assets/colab-badge.svg\" alt=\"Open In Colab\"/></a>"
      ]
    },
    {
      "cell_type": "code",
      "metadata": {
        "id": "-S6udi_09EVF",
        "colab_type": "code",
        "colab": {
          "base_uri": "https://localhost:8080/",
          "height": 331
        },
        "outputId": "dd9e1c50-4e84-464f-e901-da48a1d40a9f"
      },
      "source": [
        "!pip install pennylane"
      ],
      "execution_count": 2,
      "outputs": [
        {
          "output_type": "stream",
          "text": [
            "Collecting pennylane\n",
            "\u001b[?25l  Downloading https://files.pythonhosted.org/packages/e4/47/2774218a53908558eaedc34090b21b473932699bba17765510b43296a0bb/PennyLane-0.11.0-py3-none-any.whl (311kB)\n",
            "\r\u001b[K     |█                               | 10kB 17.8MB/s eta 0:00:01\r\u001b[K     |██                              | 20kB 1.8MB/s eta 0:00:01\r\u001b[K     |███▏                            | 30kB 2.4MB/s eta 0:00:01\r\u001b[K     |████▏                           | 40kB 2.6MB/s eta 0:00:01\r\u001b[K     |█████▎                          | 51kB 2.1MB/s eta 0:00:01\r\u001b[K     |██████▎                         | 61kB 2.4MB/s eta 0:00:01\r\u001b[K     |███████▍                        | 71kB 2.6MB/s eta 0:00:01\r\u001b[K     |████████▍                       | 81kB 2.8MB/s eta 0:00:01\r\u001b[K     |█████████▌                      | 92kB 3.1MB/s eta 0:00:01\r\u001b[K     |██████████▌                     | 102kB 2.9MB/s eta 0:00:01\r\u001b[K     |███████████▋                    | 112kB 2.9MB/s eta 0:00:01\r\u001b[K     |████████████▋                   | 122kB 2.9MB/s eta 0:00:01\r\u001b[K     |█████████████▊                  | 133kB 2.9MB/s eta 0:00:01\r\u001b[K     |██████████████▊                 | 143kB 2.9MB/s eta 0:00:01\r\u001b[K     |███████████████▊                | 153kB 2.9MB/s eta 0:00:01\r\u001b[K     |████████████████▉               | 163kB 2.9MB/s eta 0:00:01\r\u001b[K     |█████████████████▉              | 174kB 2.9MB/s eta 0:00:01\r\u001b[K     |███████████████████             | 184kB 2.9MB/s eta 0:00:01\r\u001b[K     |████████████████████            | 194kB 2.9MB/s eta 0:00:01\r\u001b[K     |█████████████████████           | 204kB 2.9MB/s eta 0:00:01\r\u001b[K     |██████████████████████          | 215kB 2.9MB/s eta 0:00:01\r\u001b[K     |███████████████████████▏        | 225kB 2.9MB/s eta 0:00:01\r\u001b[K     |████████████████████████▏       | 235kB 2.9MB/s eta 0:00:01\r\u001b[K     |█████████████████████████▎      | 245kB 2.9MB/s eta 0:00:01\r\u001b[K     |██████████████████████████▎     | 256kB 2.9MB/s eta 0:00:01\r\u001b[K     |███████████████████████████▍    | 266kB 2.9MB/s eta 0:00:01\r\u001b[K     |████████████████████████████▍   | 276kB 2.9MB/s eta 0:00:01\r\u001b[K     |█████████████████████████████▌  | 286kB 2.9MB/s eta 0:00:01\r\u001b[K     |██████████████████████████████▌ | 296kB 2.9MB/s eta 0:00:01\r\u001b[K     |███████████████████████████████▌| 307kB 2.9MB/s eta 0:00:01\r\u001b[K     |████████████████████████████████| 317kB 2.9MB/s \n",
            "\u001b[?25hRequirement already satisfied: autograd in /usr/local/lib/python3.6/dist-packages (from pennylane) (1.3)\n",
            "Requirement already satisfied: numpy in /usr/local/lib/python3.6/dist-packages (from pennylane) (1.18.5)\n",
            "Requirement already satisfied: scipy in /usr/local/lib/python3.6/dist-packages (from pennylane) (1.4.1)\n",
            "Collecting semantic-version==2.6\n",
            "  Downloading https://files.pythonhosted.org/packages/28/be/3a7241d731ba89063780279a5433f5971c1cf41735b64a9f874b7c3ff995/semantic_version-2.6.0-py3-none-any.whl\n",
            "Requirement already satisfied: networkx in /usr/local/lib/python3.6/dist-packages (from pennylane) (2.5)\n",
            "Requirement already satisfied: toml in /usr/local/lib/python3.6/dist-packages (from pennylane) (0.10.1)\n",
            "Collecting appdirs\n",
            "  Downloading https://files.pythonhosted.org/packages/3b/00/2344469e2084fb287c2e0b57b72910309874c3245463acd6cf5e3db69324/appdirs-1.4.4-py2.py3-none-any.whl\n",
            "Requirement already satisfied: future>=0.15.2 in /usr/local/lib/python3.6/dist-packages (from autograd->pennylane) (0.16.0)\n",
            "Requirement already satisfied: decorator>=4.3.0 in /usr/local/lib/python3.6/dist-packages (from networkx->pennylane) (4.4.2)\n",
            "Installing collected packages: semantic-version, appdirs, pennylane\n",
            "Successfully installed appdirs-1.4.4 pennylane-0.11.0 semantic-version-2.6.0\n"
          ],
          "name": "stdout"
        }
      ]
    },
    {
      "cell_type": "code",
      "metadata": {
        "id": "30Rt0M_z9JeM",
        "colab_type": "code",
        "colab": {}
      },
      "source": [
        "import pennylane as qml\n",
        "from pennylane import numpy as np\n",
        "import torch\n",
        "from torch.autograd import Variable\n",
        "\n",
        "n_wires = 2\n",
        "\n",
        "target = torch.tensor([0, 0.5, 0.5, 0])\n",
        "\n",
        "dev = qml.device('default.qubit', wires=2)\n",
        "\n",
        "def ansatz(params):\n",
        "  qml.RX(params[0], wires=0)\n",
        "  qml.RY(params[1], wires=1)\n",
        "  qml.CNOT(wires=[0,1])\n",
        "\n",
        "@qml.qnode(dev, interface=\"torch\")\n",
        "def circuit(params):\n",
        "  ansatz(params)\n",
        "  return qml.probs(wires=[0,1])\n",
        "\n",
        "def cost(params):\n",
        "  cost = torch.sum(torch.abs(circuit(params) - target))\n",
        "  return cost"
      ],
      "execution_count": 11,
      "outputs": []
    },
    {
      "cell_type": "code",
      "metadata": {
        "id": "CGa7K8m--_92",
        "colab_type": "code",
        "colab": {
          "base_uri": "https://localhost:8080/",
          "height": 421
        },
        "outputId": "f1f9177d-e81e-4e30-e7bf-f576aece9200"
      },
      "source": [
        "# Optimization\n",
        "\n",
        "# initialize params\n",
        "params = np.random.normal(0, np.pi, 2)\n",
        "params = Variable(torch.tensor(params), requires_grad=True)\n",
        "\n",
        "# number of steps\n",
        "steps = 200\n",
        "opt = torch.optim.Adam([params], lr=0.1)\n",
        "\n",
        "# keeping track along the way\n",
        "best_cost = cost(params)\n",
        "best_params = np.zeros(2)\n",
        "\n",
        "print(\"Initial cost: {}\".format(cost(params)))\n",
        "\n",
        "for n in range(steps):\n",
        "  opt.zero_grad()\n",
        "  loss = cost(params)\n",
        "  loss.backward()\n",
        "  opt.step()\n",
        "\n",
        "  if loss < best_cost:\n",
        "      best_cost = loss\n",
        "      best_params = params\n",
        "\n",
        "  if n % 10 == 9 or n == steps - 1:\n",
        "      print(\"Cost after {} steps is {:.4f}\".format(n+1, loss))\n",
        "\n",
        "print(\"The best gates are Rx({}) and Ry({})\".format(best_params[0].item(), best_params[1].item()))"
      ],
      "execution_count": 25,
      "outputs": [
        {
          "output_type": "stream",
          "text": [
            "Initial cost: 1.0209467233548617\n",
            "Cost after 10 steps is 0.6500\n",
            "Cost after 20 steps is 0.1968\n",
            "Cost after 30 steps is 0.0367\n",
            "Cost after 40 steps is 0.0187\n",
            "Cost after 50 steps is 0.0019\n",
            "Cost after 60 steps is 0.0100\n",
            "Cost after 70 steps is 0.0093\n",
            "Cost after 80 steps is 0.0018\n",
            "Cost after 90 steps is 0.0078\n",
            "Cost after 100 steps is 0.0091\n",
            "Cost after 110 steps is 0.0016\n",
            "Cost after 120 steps is 0.0074\n",
            "Cost after 130 steps is 0.0088\n",
            "Cost after 140 steps is 0.0015\n",
            "Cost after 150 steps is 0.0072\n",
            "Cost after 160 steps is 0.0086\n",
            "Cost after 170 steps is 0.0015\n",
            "Cost after 180 steps is 0.0071\n",
            "Cost after 190 steps is 0.0085\n",
            "Cost after 200 steps is 0.0015\n",
            "The best gates are Rx(4.712808692667411) and Ry(-3.1416110352548867)\n"
          ],
          "name": "stdout"
        }
      ]
    }
  ]
}